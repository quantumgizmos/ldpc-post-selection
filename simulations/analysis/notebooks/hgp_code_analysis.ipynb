{
 "cells": [
  {
   "cell_type": "code",
   "execution_count": 1,
   "metadata": {
    "ExecuteTime": {
     "end_time": "2025-05-20T08:10:44.264252Z",
     "start_time": "2025-05-20T08:10:39.153691Z"
    }
   },
   "outputs": [],
   "source": [
    "# Autoreload extension for Jupyter notebooks\n",
    "%load_ext autoreload\n",
    "%autoreload 2\n",
    "\n",
    "# Manual reload\n",
    "from importlib import reload\n",
    "\n",
    "# Magic commands for inline plotting and high-res figures\n",
    "%matplotlib inline\n",
    "%config InlineBackend.figure_format ='retina'\n",
    "\n",
    "# Standard library imports\n",
    "import os\n",
    "import sys\n",
    "import pickle\n",
    "from pprint import pprint\n",
    "\n",
    "# Third-party library imports\n",
    "import numpy as np\n",
    "import pandas as pd\n",
    "import matplotlib.pyplot as plt\n",
    "import rsmf.abstract_formatter\n",
    "\n",
    "# Add the parent directory to sys.path (if needed)\n",
    "from pathlib import Path\n",
    "sys.path.append(str(Path(os.getcwd()).parent.parent))\n",
    "\n",
    "# Pandas configurations\n",
    "pd.set_option('display.max_rows', 1000)\n",
    "idx = pd.IndexSlice\n",
    "\n",
    "# Figure formatting\n",
    "import rsmf\n",
    "FIG_FORMATTER: rsmf.abstract_formatter.AbstractFormatter = rsmf.setup(\n",
    "    r\"\\documentclass[a4paper,twocolumn,10pt,unpublished]{quantumarticle}\"\n",
    ")\n",
    "COLORS = plt.get_cmap('tab10')\n",
    "\n",
    "plt.rcParams.update({\n",
    "    \"axes.prop_cycle\": plt.cycler(\"color\", plt.cm.tab10.colors),\n",
    "    \"xtick.direction\": \"out\",\n",
    "    \"ytick.direction\": \"out\",\n",
    "    \"xtick.major.size\": 3,\n",
    "    \"ytick.major.size\": 3,\n",
    "    \"figure.constrained_layout.use\": True,\n",
    "    \"figure.constrained_layout.h_pad\": 0.04,\n",
    "    \"figure.constrained_layout.w_pad\": 0.04,\n",
    "    \"figure.constrained_layout.hspace\": 0.01,\n",
    "    \"figure.constrained_layout.wspace\": 0.01,\n",
    "    \"legend.framealpha\": 0.5,\n",
    "})\n",
    "\n",
    "# For in-line display of rsmf figures\n",
    "import matplotlib\n",
    "from matplotlib.backends.backend_pgf import FigureCanvasPgf\n",
    "matplotlib.backend_bases.register_backend('pdf', FigureCanvasPgf)\n",
    "matplotlib.use('module://matplotlib_inline.backend_inline')\n",
    "\n",
    "# Utility functions\n",
    "def write_pickle(path, obj):\n",
    "    with open(path, 'wb') as f:\n",
    "        pickle.dump(obj, f)\n",
    "\n",
    "def read_pickle(path):\n",
    "    with open(path, 'rb') as f:\n",
    "        obj = pickle.load(f)\n",
    "    return obj\n",
    "\n",
    "from simulations.analysis.plotting_helpers import error_band_plot, load_data, take_best_by_from_df_ps_dict"
   ]
  },
  {
   "cell_type": "markdown",
   "metadata": {},
   "source": [
    "## Generate an example circuit"
   ]
  },
  {
   "cell_type": "code",
   "execution_count": 6,
   "metadata": {},
   "outputs": [
    {
     "data": {
      "text/plain": [
       "array([[0, 0, 1, 1, 0, 1, 0, 0, 0, 0, 1, 0],\n",
       "       [0, 1, 0, 1, 0, 0, 1, 0, 0, 0, 0, 1],\n",
       "       [0, 0, 0, 0, 0, 0, 0, 1, 1, 0, 1, 1],\n",
       "       [0, 0, 0, 0, 1, 0, 1, 0, 0, 1, 1, 0],\n",
       "       [1, 0, 0, 0, 0, 1, 0, 0, 0, 1, 0, 1],\n",
       "       [0, 1, 1, 0, 0, 0, 0, 0, 1, 1, 0, 0],\n",
       "       [1, 0, 0, 1, 1, 0, 0, 0, 1, 0, 0, 0],\n",
       "       [0, 1, 0, 0, 1, 1, 0, 1, 0, 0, 0, 0],\n",
       "       [1, 0, 1, 0, 0, 0, 1, 1, 0, 0, 0, 0]], dtype=uint8)"
      ]
     },
     "execution_count": 8,
     "metadata": {},
     "output_type": "execute_result"
    }
   ],
   "source": [
    "H = np.loadtxt(\"../../data/hgp_prebuilt/check_matrices/n12_dv3_dc4_d6.txt\")\n",
    "H = H.astype(\"uint8\")\n",
    "H"
   ]
  },
  {
   "cell_type": "code",
   "execution_count": 9,
   "metadata": {},
   "outputs": [
    {
     "name": "stdout",
     "output_type": "stream",
     "text": [
      "(225, 9, 6)\n"
     ]
    }
   ],
   "source": [
    "from simulations.utils.build_random_hgp_circuits import compute_hgp_code_parameters\n",
    "\n",
    "code, code_prms = compute_hgp_code_parameters(H, H)\n",
    "\n",
    "print(code_prms)"
   ]
  },
  {
   "cell_type": "code",
   "execution_count": 11,
   "metadata": {},
   "outputs": [],
   "source": [
    "from simulations.utils.build_circuit import build_BB_circuit\n",
    "\n",
    "circuit = build_BB_circuit(n=144, T=1, p=1e-3)"
   ]
  },
  {
   "cell_type": "code",
   "execution_count": 25,
   "metadata": {},
   "outputs": [],
   "source": [
    "from simulations.utils.build_random_hgp_circuits import build_hgp_circuit_from_code\n",
    "\n",
    "dv, dc = 3, 4\n",
    "n, k, d = code_prms\n",
    "T = d\n",
    "p = 1e-3\n",
    "\n",
    "# Create circuit\n",
    "circuit = build_hgp_circuit_from_code(\n",
    "    code, p, T, noisy_init=True, noisy_meas=True, seed=22\n",
    ")"
   ]
  },
  {
   "cell_type": "code",
   "execution_count": 27,
   "metadata": {},
   "outputs": [],
   "source": [
    "# Save circuit\n",
    "circuit_dir = \"../../data/hgp_prebuilt/circuits\"\n",
    "circuit.to_file(os.path.join(circuit_dir, f\"({dv},{dc})_n{n}_k{k}_d{d}_T{T}_p{p}.stim\"))"
   ]
  },
  {
   "cell_type": "markdown",
   "metadata": {},
   "source": [
    "## pfail vs pabort"
   ]
  },
  {
   "cell_type": "code",
   "execution_count": 5,
   "metadata": {},
   "outputs": [],
   "source": [
    "filter = {\"n\": 225, \"k\": 9, \"d\": 6}\n",
    "df_ps_dict = load_data(\"hgp\", filter=filter)"
   ]
  },
  {
   "cell_type": "code",
   "execution_count": 6,
   "metadata": {},
   "outputs": [
    {
     "data": {
      "text/plain": [
       "dict_keys(['cluster_llr_norm_2', 'cluster_size_norm_gap_inf', 'cluster_llr_norm_gap_0.5', 'cluster_size_norm_inf', 'cluster_llr_norm_gap_1', 'cluster_llr_norm_0.5', 'cluster_size_norm_1', 'detector_density', 'cluster_size_norm_gap_1', 'cluster_llr_norm_1', 'cluster_llr_norm_inf', 'cluster_size_norm_0.5', 'cluster_llr_norm_gap_inf', 'cluster_size_norm_2', 'cluster_size_norm_gap_0.5', 'cluster_llr_norm_gap_2', 'pred_llr', 'cluster_size_norm_gap_2'])"
      ]
     },
     "execution_count": 6,
     "metadata": {},
     "output_type": "execute_result"
    }
   ],
   "source": [
    "df_ps_dict.keys()"
   ]
  },
  {
   "cell_type": "code",
   "execution_count": 36,
   "metadata": {},
   "outputs": [
    {
     "data": {
      "image/png": "[encoded data removed]",
      "text/plain": [
       "<Figure size 282.24x225.792 with 1 Axes>"
      ]
     },
     "metadata": {
      "image/png": {
       "height": 240,
       "width": 296
      }
     },
     "output_type": "display_data"
    }
   ],
   "source": [
    "height = 0.28\n",
    "width_ratio = 0.35\n",
    "aspect_ratio = height / width_ratio\n",
    "fig = FIG_FORMATTER.figure(\n",
    "    wide=True, width_ratio=width_ratio, aspect_ratio=aspect_ratio\n",
    ")\n",
    "ax = fig.add_subplot()\n",
    "\n",
    "prms = (225, 9, 6, 6, 1e-3)\n",
    "n, k, d, T, p = prms\n",
    "\n",
    "keys = [\"cluster_llr_norm_2\", \"pred_llr\", \"detector_density\"]\n",
    "labels = [r\"$Q_\\mathrm{LLR}^{(2)}$\", r\"Correction weight\", r\"Detector density\"]\n",
    "colors = [COLORS(0), COLORS(2), COLORS(3)]\n",
    "linestyles = [\"-\", \"-.\", \":\"]\n",
    "\n",
    "i = 0\n",
    "data_plots = {}\n",
    "for by in keys:\n",
    "    p_abort_col = \"p_abort\"\n",
    "    p_fail_col = \"p_fail\"\n",
    "    delta_p_fail_col = \"delta_p_fail\"\n",
    "\n",
    "    df_ps = df_ps_dict[by].loc[prms].reset_index()\n",
    "\n",
    "    df_ps = df_ps.sort_values(by=p_abort_col)\n",
    "    p_abort = df_ps[p_abort_col].values\n",
    "    p_fail = df_ps[p_fail_col].values\n",
    "    delta_p_fail = df_ps[delta_p_fail_col].values\n",
    "    data_plots[by] = (p_abort, p_fail, delta_p_fail)\n",
    "\n",
    "    error_band_plot(\n",
    "        p_abort,\n",
    "        p_fail,\n",
    "        delta_p_fail,\n",
    "        color=colors[i],\n",
    "        linestyle=linestyles[i],\n",
    "        label=labels[i],\n",
    "        ax=ax,\n",
    "    )\n",
    "    i += 1\n",
    "\n",
    "# ax.set_xscale(\"log\")\n",
    "ax.set_xlim(0, 1)\n",
    "ax.set_yscale(\"log\")\n",
    "ax.legend()\n",
    "ax.set_ylim(1e-10, 1)\n",
    "ax.set_yticks(10.0 ** np.arange(-10, 1, 2))\n",
    "ax.set_title(rf\"$[[{n}, {k}, {d}]]$, $p={p}$\", fontsize=10)\n",
    "\n",
    "ax.set_xlabel(r\"Abort rate, $p_\\mathrm{abort}$\")\n",
    "ax.set_ylabel(r\"Logical error rate, $p_\\mathrm{log}$\")\n",
    "\n",
    "fig.text(\n",
    "    0,\n",
    "    1,\n",
    "    r\"\\textbf{(a)}\",\n",
    "    fontsize=11,\n",
    "    in_layout=False,\n",
    "    transform=fig.transFigure,\n",
    "    verticalalignment=\"top\",\n",
    ")\n",
    "\n",
    "fig.savefig(\"overleaf_figs/hgp_code_metric_comparison_plog_vs_pabort.pdf\")"
   ]
  },
  {
   "cell_type": "code",
   "execution_count": 37,
   "metadata": {},
   "outputs": [],
   "source": [
    "prms = (225, 9, 6, 6, 1e-3)\n",
    "n, k, d, T, p = prms\n",
    "\n",
    "# Create ordered list of keys\n",
    "ordered_keys = df_ps_dict.keys()\n",
    "\n",
    "i = 0\n",
    "data_plots = {}\n",
    "for by in ordered_keys:\n",
    "    try:\n",
    "        df_ps = df_ps_dict[by].loc[prms].reset_index()\n",
    "    except KeyError:\n",
    "        continue\n",
    "\n",
    "    p_abort_col = \"p_abort\"\n",
    "    p_fail_col = \"p_fail\"\n",
    "    delta_p_fail_col = \"delta_p_fail\"\n",
    "\n",
    "    df_ps = df_ps.sort_values(by=p_abort_col)\n",
    "    p_abort = df_ps[p_abort_col].values\n",
    "    p_fail = df_ps[p_fail_col].values\n",
    "    delta_p_fail = df_ps[delta_p_fail_col].values\n",
    "    data_plots[by] = (p_abort, p_fail, delta_p_fail)"
   ]
  },
  {
   "cell_type": "code",
   "execution_count": 38,
   "metadata": {},
   "outputs": [
    {
     "name": "stdout",
     "output_type": "stream",
     "text": [
      "0: cluster_size_norm_2 (1.06e-03 ± 2.84e-05)\n",
      "1: cluster_size_norm_inf (1.09e-03 ± 2.87e-05)\n",
      "2: cluster_llr_norm_2 (1.11e-03 ± 2.92e-05)\n",
      "3: cluster_llr_norm_inf (1.13e-03 ± 2.94e-05)\n",
      "4: cluster_size_norm_1 (1.78e-03 ± 3.68e-05)\n",
      "5: cluster_llr_norm_1 (1.97e-03 ± 3.86e-05)\n",
      "6: pred_llr (1.68e-02 ± 1.13e-04)\n",
      "7: cluster_llr_norm_0.5 (3.99e-02 ± 1.71e-04)\n",
      "8: cluster_size_norm_0.5 (4.16e-02 ± 1.75e-04)\n",
      "9: detector_density (6.89e-02 ± 2.18e-04)\n"
     ]
    },
    {
     "data": {
      "image/png": "[encoded data removed]",
      "text/plain": [
       "<Figure size 516.096x225.792 with 1 Axes>"
      ]
     },
     "metadata": {
      "image/png": {
       "height": 240,
       "width": 527
      }
     },
     "output_type": "display_data"
    }
   ],
   "source": [
    "target = 0.5\n",
    "bys, y_vals, y_errs = [], [], []\n",
    "\n",
    "by_to_exclude = [\n",
    "    \"average_cluster_size\",\n",
    "    \"average_cluster_llr\",\n",
    "    \"matching_pred_llr\",\n",
    "    \"matching_detector_density\",\n",
    "    \"cluster_llr_residual_sum\",\n",
    "    \"cluster_llr_residual_sum_gap\",\n",
    "]\n",
    "\n",
    "for by, (p_abort, p_fail, delta_p_fail) in data_plots.items():\n",
    "    if by in by_to_exclude:\n",
    "        continue\n",
    "    if \"norm_gap\" in by:\n",
    "        continue\n",
    "    ind = np.where(p_abort <= target)[0]\n",
    "    if len(ind):\n",
    "        sel = ind[-1]\n",
    "    else:\n",
    "        sel = 0\n",
    "    bys.append(by)\n",
    "    y_vals.append(p_fail[sel])\n",
    "    y_errs.append(delta_p_fail[sel])\n",
    "\n",
    "sort_inds = np.argsort(y_vals)\n",
    "by_sorted = [bys[i] for i in sort_inds]\n",
    "y_vals_sorted = [y_vals[i] for i in sort_inds]\n",
    "y_errs_sorted = [y_errs[i] for i in sort_inds]\n",
    "\n",
    "for i, by in enumerate(by_sorted):\n",
    "    print(f\"{i}: {by} ({y_vals_sorted[i]:.2e} ± {y_errs_sorted[i]:.2e})\")\n",
    "\n",
    "\n",
    "def determine_group(by):\n",
    "    if \"matching\" in by:\n",
    "        group = 2\n",
    "        color = COLORS(1)\n",
    "        label = \"Logical gap (MWPM)\"\n",
    "        marker = \"o\"\n",
    "    elif \"cluster_size_norm\" in by:\n",
    "        group = 0\n",
    "        label = r\"$Q_\\mathrm{size}^{(\\alpha)}$\"\n",
    "        marker = \"x\"\n",
    "        color = COLORS(0)\n",
    "    elif \"cluster_llr_norm\" in by:\n",
    "        group = 1\n",
    "        label = r\"$Q_\\mathrm{LLR}^{(\\alpha)}$\"\n",
    "        marker = \"X\"\n",
    "        color = COLORS(0)\n",
    "    elif by == \"pred_llr\":\n",
    "        group = 3\n",
    "        label = \"Correction weight\"\n",
    "        marker = \"^\"\n",
    "        color = COLORS(2)\n",
    "    elif by == \"detector_density\":\n",
    "        group = 4\n",
    "        label = \"Detector density\"\n",
    "        marker = \"s\"\n",
    "        color = COLORS(3)\n",
    "    else:\n",
    "        group = None\n",
    "        label = \"other\"\n",
    "        marker = \"s\"\n",
    "        color = COLORS(5)\n",
    "    return group, label, marker, color\n",
    "\n",
    "\n",
    "# Group data and plot with different colors\n",
    "group_labels_added = set()\n",
    "legend_handles = []\n",
    "legend_labels = []\n",
    "\n",
    "height = 0.28\n",
    "width_ratio = 0.64\n",
    "aspect_ratio = height / width_ratio\n",
    "fig = FIG_FORMATTER.figure(\n",
    "    wide=True, width_ratio=width_ratio, aspect_ratio=aspect_ratio\n",
    ")\n",
    "ax = fig.add_subplot()\n",
    "\n",
    "for i, by in enumerate(by_sorted):\n",
    "    group, group_label, marker, color = determine_group(by)\n",
    "    assert group is not None\n",
    "    label = group_label if group_label not in group_labels_added else None\n",
    "\n",
    "    handle = ax.scatter(\n",
    "        i,\n",
    "        y_vals_sorted[i],\n",
    "        marker=marker,\n",
    "        s=20,\n",
    "        color=color,\n",
    "        label=label,\n",
    "    )\n",
    "\n",
    "    # Add number annotation for \"norm\" metrics\n",
    "    if \"norm\" in by:\n",
    "        norm_order = by.split(\"_\")[-1]\n",
    "        if norm_order == \"inf\":\n",
    "            norm_order = r\"$\\infty$\"\n",
    "        else:\n",
    "            norm_order = rf\"${norm_order}$\"\n",
    "\n",
    "        if norm_order != rf\"$0.5$\":\n",
    "            y_text = y_vals_sorted[i] * 1.8\n",
    "        else:\n",
    "            y_text = y_vals_sorted[i] * 0.3\n",
    "\n",
    "        ax.text(\n",
    "            i,\n",
    "            y_text,  # Position slightly above the marker\n",
    "            norm_order,\n",
    "            ha=\"center\",\n",
    "            va=\"bottom\",\n",
    "            fontsize=6.5,\n",
    "            color=color,\n",
    "        )\n",
    "\n",
    "    if label:\n",
    "        group_labels_added.add(group_label)\n",
    "        legend_handles.append((group, handle))\n",
    "        legend_labels.append((group, group_label))\n",
    "\n",
    "pfail_org = df_ps_dict[\"cluster_llr_norm_1\"].loc[prms][\"p_fail\"].values[-1]\n",
    "\n",
    "line = ax.axhline(pfail_org, color=\"grey\", linestyle=\":\", label=\"BP+LSD\")\n",
    "\n",
    "\n",
    "# Sort legend by group order\n",
    "legend_handles.sort(key=lambda x: x[0])\n",
    "legend_labels.sort(key=lambda x: x[0])\n",
    "\n",
    "legend_handles.append((999, line))  # Use high number to put at end\n",
    "legend_labels.append((999, \"w/o PS (BP+LSD)\"))\n",
    "\n",
    "ax.set_title(\n",
    "    rf\"$[[225, 9, 6]]$, $p = {p}$, $p_\\mathrm{{abort}} = {target}$\",\n",
    "    fontsize=10,\n",
    ")\n",
    "ax.set_xticks(np.arange(len(by_sorted)))\n",
    "ax.set_xticklabels(np.arange(len(by_sorted)))\n",
    "ax.set_xlabel(\"Metrics\")\n",
    "ax.set_ylabel(r\"Logical error rate, $p_\\mathrm{log}$\")\n",
    "ax.set_yscale(\"log\")\n",
    "ax.set_ylim(1e-4, 1)\n",
    "# ax.set_yticks(10.0 ** np.arange(-4, 1, 1))\n",
    "\n",
    "fig.legend(\n",
    "    [h[1] for h in legend_handles],\n",
    "    [l[1] for l in legend_labels],\n",
    "    loc=\"outside right\",\n",
    ")\n",
    "\n",
    "fig.text(\n",
    "    0,\n",
    "    1,\n",
    "    r\"\\textbf{(b)}\",\n",
    "    fontsize=11,\n",
    "    in_layout=False,\n",
    "    transform=fig.transFigure,\n",
    "    verticalalignment=\"top\",\n",
    ")\n",
    "\n",
    "plt.savefig(\"overleaf_figs/hgp_code_metric_comparison.pdf\")"
   ]
  },
  {
   "cell_type": "code",
   "execution_count": null,
   "metadata": {},
   "outputs": [],
   "source": []
  }
 ],
 "metadata": {
  "kernelspec": {
   "display_name": "ldpc-post-selection",
   "language": "python",
   "name": "python3"
  },
  "language_info": {
   "codemirror_mode": {
    "name": "ipython",
    "version": 3
   },
   "file_extension": ".py",
   "mimetype": "text/x-python",
   "name": "python",
   "nbconvert_exporter": "python",
   "pygments_lexer": "ipython3",
   "version": "3.13.5"
  },
  "varInspector": {
   "cols": {
    "lenName": 16,
    "lenType": 16,
    "lenVar": 40
   },
   "kernels_config": {
    "python": {
     "delete_cmd_postfix": "",
     "delete_cmd_prefix": "del ",
     "library": "var_list.py",
     "varRefreshCmd": "print(var_dic_list())"
    },
    "r": {
     "delete_cmd_postfix": ") ",
     "delete_cmd_prefix": "rm(",
     "library": "var_list.r",
     "varRefreshCmd": "cat(var_dic_list()) "
    }
   },
   "types_to_exclude": [
    "module",
    "function",
    "builtin_function_or_method",
    "instance",
    "_Feature"
   ],
   "window_display": false
  }
 },
 "nbformat": 4,
 "nbformat_minor": 2
}
