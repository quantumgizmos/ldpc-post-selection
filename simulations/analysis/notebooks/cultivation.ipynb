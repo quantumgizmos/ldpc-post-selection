{
 "cells": [
  {
   "cell_type": "code",
   "execution_count": 58,
   "id": "a3c63738",
   "metadata": {},
   "outputs": [],
   "source": [
    "import stim\n",
    "import numpy as np\n",
    "from color_code_stim.cultivation import _load_cultivation_circuit\n",
    "\n",
    "circuit: stim.Circuit = _load_cultivation_circuit(5, 1e-3)"
   ]
  },
  {
   "cell_type": "code",
   "execution_count": 59,
   "id": "2132e714",
   "metadata": {},
   "outputs": [],
   "source": [
    "from ldpc_post_selection.bplsd_decoder import SoftOutputsBpLsdDecoder\n",
    "\n",
    "decoder = SoftOutputsBpLsdDecoder(circuit=circuit)"
   ]
  },
  {
   "cell_type": "code",
   "execution_count": 60,
   "id": "191e9da5",
   "metadata": {},
   "outputs": [],
   "source": [
    "sampler = circuit.compile_detector_sampler()\n",
    "det, obs = sampler.sample(1000, separate_observables=True)"
   ]
  },
  {
   "cell_type": "code",
   "execution_count": 61,
   "id": "95ae02ee",
   "metadata": {},
   "outputs": [],
   "source": [
    "import numpy as np\n",
    "\n",
    "fails = []\n",
    "soft_outputs = []\n",
    "for det_sng, obs_sng in zip(det, obs):\n",
    "    corr, _, _, soft_outputs_sng = decoder.decode(det_sng)\n",
    "    inferred_obs = (corr @ decoder.obs_matrix.T.astype(\"uint8\")) % 2\n",
    "    fail = np.any(inferred_obs != obs_sng)\n",
    "    fails.append(fail)\n",
    "    soft_outputs.append(soft_outputs_sng)"
   ]
  },
  {
   "cell_type": "code",
   "execution_count": 62,
   "id": "dea47293",
   "metadata": {},
   "outputs": [],
   "source": [
    "total_llr_sum = np.sum(decoder.bit_llrs)\n",
    "\n",
    "metrics = []\n",
    "for soft_outputs_sng in soft_outputs:\n",
    "    cluster_llrs = soft_outputs_sng[\"cluster_llrs\"]\n",
    "    cluster_llr_2norm_frac = 1 - np.sqrt(np.sum(cluster_llrs[:-1] ** 2)) / total_llr_sum\n",
    "    metrics.append(cluster_llr_2norm_frac)"
   ]
  },
  {
   "cell_type": "code",
   "execution_count": 63,
   "id": "39ae1b5c",
   "metadata": {},
   "outputs": [],
   "source": [
    "metrics = np.array(metrics)"
   ]
  },
  {
   "cell_type": "code",
   "execution_count": 64,
   "id": "7432fa21",
   "metadata": {},
   "outputs": [
    {
     "data": {
      "text/plain": [
       "(array([870,   0,   0,   0,   0,   0,   0,   0,   0, 130]),\n",
       " array([1.77672282e-04, 1.00159905e-01, 2.00142138e-01, 3.00124371e-01,\n",
       "        4.00106603e-01, 5.00088836e-01, 6.00071069e-01, 7.00053302e-01,\n",
       "        8.00035534e-01, 9.00017767e-01, 1.00000000e+00]))"
      ]
     },
     "execution_count": 64,
     "metadata": {},
     "output_type": "execute_result"
    }
   ],
   "source": [
    "np.histogram(metrics)"
   ]
  },
  {
   "cell_type": "code",
   "execution_count": null,
   "id": "0b4aca92",
   "metadata": {},
   "outputs": [],
   "source": []
  }
 ],
 "metadata": {
  "kernelspec": {
   "display_name": ".venv",
   "language": "python",
   "name": "python3"
  },
  "language_info": {
   "codemirror_mode": {
    "name": "ipython",
    "version": 3
   },
   "file_extension": ".py",
   "mimetype": "text/x-python",
   "name": "python",
   "nbconvert_exporter": "python",
   "pygments_lexer": "ipython3",
   "version": "3.11.3"
  }
 },
 "nbformat": 4,
 "nbformat_minor": 5
}
