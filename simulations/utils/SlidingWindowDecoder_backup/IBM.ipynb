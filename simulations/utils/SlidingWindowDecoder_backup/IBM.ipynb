{
 "cells": [
  {
   "cell_type": "code",
   "execution_count": 71,
   "id": "13e161c0",
   "metadata": {},
   "outputs": [
    {
     "name": "stdout",
     "output_type": "stream",
     "text": [
      "1.13.dev1701377008\n",
      "BB_n288_k12\n"
     ]
    }
   ],
   "source": [
    "%reload_ext autoreload\n",
    "%autoreload 2\n",
    "%matplotlib inline\n",
    "import stim\n",
    "print(stim.__version__)\n",
    "\n",
    "import matplotlib.pyplot as plt\n",
    "import numpy as np\n",
    "import math\n",
    "\n",
    "from ldpc import bp_decoder, bposd_decoder\n",
    "import time\n",
    "from src.utils import rank\n",
    "from src.codes_q import create_bivariate_bicycle_codes, create_circulant_matrix\n",
    "from src.build_circuit import build_circuit, dem_to_check_matrices\n",
    "from src import osd_window\n",
    "\n",
    "# [[72,12,6]]\n",
    "# code, A_list, B_list = create_bivariate_bicycle_codes(6, 6, [3], [1,2], [1,2], [3])\n",
    "# d = 6\n",
    "\n",
    "# [[90,8,10]]\n",
    "# code, A_list, B_list = create_bivariate_bicycle_codes(15, 3, [9], [1,2], [2,7], [0])\n",
    "# d = 10\n",
    "\n",
    "# [[108,8,10]]\n",
    "# code, A_list, B_list = create_bivariate_bicycle_codes(9, 6, [3], [1,2], [1,2], [3])\n",
    "# d = 10\n",
    "\n",
    "# [[144,12,12]]\n",
    "code, A_list, B_list = create_bivariate_bicycle_codes(12, 6, [3], [1,2], [1,2], [3])\n",
    "d = 12\n",
    "\n",
    "# [[288,12,18]]\n",
    "# code, A_list, B_list = create_bivariate_bicycle_codes(12, 12, [3], [2,7], [1,2], [3])\n",
    "# d = 18\n",
    "\n",
    "# [[360,12,<=24]]\n",
    "# code, A_list, B_list = create_bivariate_bicycle_codes(30, 6, [9], [1,2], [25,26], [3])\n",
    "\n",
    "# [[756,16,<=34]]\n",
    "# code, A_list, B_list = create_bivariate_bicycle_codes(21,18, [3], [10,17], [3,19], [5])\n",
    "\n",
    "print(code.name)"
   ]
  },
  {
   "cell_type": "markdown",
   "id": "7be87e9a",
   "metadata": {},
   "source": [
    "This notebook tries to reproduce the result in [1] Figure 3.\n",
    "\n",
    "Toggle the code above and change the `num_repeat` parameter to the code distance in the `build_circuit` function below. This function implements the circuit in Figure 7 / Table 5 of [1].\n",
    "\n",
    "Following the Stim style of circuit creation:\n",
    "- all data qubits are initialized into $|0\\rangle$ if in the z-basis or $|+\\rangle$ if in the x-basis.\n",
    "- the first round is an encoding round (using the same syndrome measurement circuit), detectors are put onto the z-checks if in the z-basis or onto x-checks if in the x-basis. Detectors can NOT be put onto both types of checks in the encoding round.\n",
    "- afterwards, syndrome measurement rounds are repeated `num_repeat-1` times, detectors are the XORed results of current z/x-checks and those from the previous round if in the z/x-basis. Detectors can be put onto both types of checks when setting `use_both` to `True`. It is not recommended to do so, as the detector error model check matrix will otherwise be too large. In other words, only independent X and Z decoding (`use_both=False`) is implemented in this repo.\n",
    "- the data qubits are directly measured in the z/x-basis, and a noiseless syndrome measurement results are calculated using these data qubit measurement results. Again, these results are XORed with the previous round. This mimics the behavior of memory experiments (cf. surface code). This round is a simulation trick, as data qubits are never collapsed in real-time experiments (e.g. before a non-Clifford gate). An alternative implementation of this round is to still use syndrome measurement circuit but remove noise from CNOT gates.\n",
    "- observables are the logical operators.\n",
    "- Currently only one identity gate on L/R data is implemented as before-round-depolarization, performance does not accord with [1] if put two (cf. Table 5 [1]). Ancilla measurement and re-initialization is merged into `MR` in Stim.\n",
    "\n",
    "The fault mechanism combination described in Section 6 of [1] is handled by Stim `detector_error_model` and the glue code `dem_to_check_matrices` was adapted from PyMatching.\n",
    "\n",
    "[1] High-threshold and low-overhead fault-tolerant quantum memory"
   ]
  },
  {
   "cell_type": "code",
   "execution_count": 72,
   "id": "4d7a2608",
   "metadata": {},
   "outputs": [],
   "source": [
    "def decode(p, num_repeat, num_shots=10000, osd_order=10, shorten=False):  # whether use my heuristic OSD on shortened PCM)\n",
    "    circuit = build_circuit(code, A_list, B_list, \n",
    "                            p=p, # physical error rate\n",
    "                            num_repeat=num_repeat, # usually set to code distance\n",
    "                            z_basis=True,   # whether in the z-basis or x-basis\n",
    "                            use_both=False, # whether use measurement results in both basis to decode one basis\n",
    "                           )\n",
    "    dem = circuit.detector_error_model()\n",
    "    chk, obs, priors, col_dict = dem_to_check_matrices(dem, return_col_dict=True)\n",
    "    num_row, num_col = chk.shape\n",
    "    chk_row_wt = np.sum(chk, axis=1)\n",
    "    chk_col_wt = np.sum(chk, axis=0)\n",
    "    print(f\"check matrix shape {chk.shape}, max (row, column) weight ({np.max(chk_row_wt)}, {np.max(chk_col_wt)}),\",\n",
    "          f\"min (row, column) weight ({np.min(chk_row_wt)}, {np.min(chk_col_wt)})\")\n",
    "    if not shorten:\n",
    "        bpd = bposd_decoder(\n",
    "            chk, # the parity check matrix\n",
    "            error_rate=p, # does not matter as channel_prob is set\n",
    "            channel_probs=priors, # assign error_rate to each qubit. This will override \"error_rate\" input variable\n",
    "            max_iter=10000, # the maximum number of iterations for BP\n",
    "            bp_method=\"minimum_sum_log\", # messages are not clipped, may have numerical issues\n",
    "            ms_scaling_factor=1.0, # min sum scaling factor. If set to zero the variable scaling factor method is used\n",
    "            osd_method=\"osd_cs\", # the OSD method. Choose from:  1) \"osd_e\", \"osd_cs\", \"osd0\"\n",
    "            osd_order=osd_order, # the osd search depth, not specified in [1]\n",
    "            input_vector_type=\"syndrome\", # \"received_vector\"\n",
    "        )\n",
    "    else: # see Sliding Window OSD.ipynb for more detail\n",
    "        bpd = osd_window(\n",
    "            chk,\n",
    "            channel_probs=priors,\n",
    "            pre_max_iter=16, # BP preprocessing on original PCM\n",
    "            post_max_iter=1000, # BP on shortened PCM\n",
    "            ms_scaling_factor=1.0,\n",
    "            new_n=None, # if set to None, 2*num_row columns will be kept\n",
    "            osd_method=\"osd_cs\",\n",
    "            osd_order=10\n",
    "        )\n",
    "\n",
    "    start_time = time.perf_counter()\n",
    "    dem_sampler: stim.CompiledDemSampler = dem.compile_sampler()\n",
    "    det_data, obs_data, err_data = dem_sampler.sample(shots=num_shots, return_errors=False, bit_packed=False)\n",
    "    print(\"detector data shape\", det_data.shape)\n",
    "    print(\"observable data shape\", obs_data.shape)\n",
    "    end_time = time.perf_counter()\n",
    "    print(f\"Stim: noise sampling for {num_shots} shots, elapsed time:\", end_time-start_time)\n",
    "\n",
    "    num_err = 0\n",
    "    num_flag_err = 0\n",
    "    start_time = time.perf_counter()\n",
    "    for i in range(num_shots):\n",
    "        e_hat = bpd.decode(det_data[i])\n",
    "        num_flag_err += ((chk @ e_hat + det_data[i]) % 2).any()\n",
    "        ans = (obs @ e_hat + obs_data[i]) % 2\n",
    "        num_err += ans.any()\n",
    "    end_time = time.perf_counter()\n",
    "    print(\"Elapsed time:\", end_time-start_time)\n",
    "    print(f\"Flagged Errors: {num_flag_err}/{num_shots}\") # expect 0 for OSD\n",
    "    print(f\"Logical Errors: {num_err}/{num_shots}\")\n",
    "    p_l = num_err / num_shots\n",
    "    p_l_per_round = 1-(1-p_l) ** (1/num_repeat)\n",
    "    print(\"Logical error per round:\", p_l_per_round)"
   ]
  },
  {
   "cell_type": "code",
   "execution_count": 6,
   "id": "cc3cbd1d",
   "metadata": {},
   "outputs": [
    {
     "name": "stdout",
     "output_type": "stream",
     "text": [
      "check matrix shape (936, 8784), max (row, column) weight (35, 6), min (row, column) weight (16, 2)\n",
      "detector data shape (10000, 936)\n",
      "observable data shape (10000, 12)\n",
      "Stim: noise sampling for 10000 shots, elapsed time: 0.023050088435411453\n",
      "Elapsed time: 428.5726739112288\n",
      "Flagged Errors: 0/10000\n",
      "Logical Errors: 90/10000\n",
      "Logical error per round: 0.0007531116566323881\n"
     ]
    }
   ],
   "source": [
    "decode(p=0.004, num_repeat=d, num_shots=10000, shorten=True)"
   ]
  },
  {
   "cell_type": "code",
   "execution_count": 382,
   "id": "e33d0efe",
   "metadata": {},
   "outputs": [
    {
     "name": "stdout",
     "output_type": "stream",
     "text": [
      "check matrix shape (936, 8784), max (row, column) weight (35, 6), min (row, column) weight (16, 2)\n",
      "detector data shape (10000, 936)\n",
      "observable data shape (10000, 12)\n",
      "Stim: noise sampling for 10000 shots, elapsed time: 0.018485471606254578\n",
      "Elapsed time: 1657.7230640873313\n",
      "Flagged Errors: 0/10000\n",
      "Logical Errors: 76/10000\n",
      "Logical error per round: 0.0006355502160568793\n"
     ]
    }
   ],
   "source": [
    "decode(p=0.004, num_repeat=d, num_shots=10000)"
   ]
  },
  {
   "cell_type": "code",
   "execution_count": 384,
   "id": "55f61110",
   "metadata": {},
   "outputs": [
    {
     "name": "stdout",
     "output_type": "stream",
     "text": [
      "check matrix shape (936, 8784), max (row, column) weight (35, 6), min (row, column) weight (16, 2)\n",
      "detector data shape (100000, 936)\n",
      "observable data shape (100000, 12)\n",
      "Stim: noise sampling for 100000 shots, elapsed time: 0.2078531989827752\n",
      "Elapsed time: 4199.123198093846\n",
      "Flagged Errors: 0/100000\n",
      "Logical Errors: 77/100000\n",
      "Logical error per round: 6.418932329932403e-05\n"
     ]
    }
   ],
   "source": [
    "decode(p=0.003, num_repeat=d, num_shots=100000)"
   ]
  }
 ],
 "metadata": {
  "kernelspec": {
   "display_name": "Python 3 (ipykernel)",
   "language": "python",
   "name": "python3"
  },
  "language_info": {
   "codemirror_mode": {
    "name": "ipython",
    "version": 3
   },
   "file_extension": ".py",
   "mimetype": "text/x-python",
   "name": "python",
   "nbconvert_exporter": "python",
   "pygments_lexer": "ipython3",
   "version": "3.9.16"
  }
 },
 "nbformat": 4,
 "nbformat_minor": 5
}
