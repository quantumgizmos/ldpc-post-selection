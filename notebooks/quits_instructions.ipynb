{
 "cells": [
  {
   "cell_type": "code",
   "execution_count": 2,
   "id": "012796a0",
   "metadata": {},
   "outputs": [],
   "source": [
    "import numpy as np\n",
    "import stim\n",
    "from tqdm import tqdm\n",
    "from quits.qldpc_code import *\n",
    "from quits.circuit import get_qldpc_mem_circuit\n",
    "from quits.decoder import sliding_window_bposd_circuit_mem\n",
    "from quits.simulation import get_stim_mem_result"
   ]
  },
  {
   "cell_type": "code",
   "execution_count": 23,
   "id": "a42f036e",
   "metadata": {},
   "outputs": [
    {
     "name": "stdout",
     "output_type": "stream",
     "text": [
      "Original parity-check matrix H:\n",
      "[[0 1 0 0 0 1 1 0 0 0 0 1]\n",
      " [0 0 0 0 1 0 0 1 0 0 1 1]\n",
      " [0 0 1 1 0 0 0 0 1 1 0 0]\n",
      " [3 1 0 0 0 0 0 0 0 0 0 0]\n",
      " [0 0 0 0 1 0 0 0 2 0 1 0]\n",
      " [0 0 0 0 1 1 0 1 0 1 0 0]\n",
      " [0 0 2 0 0 0 0 0 0 1 1 0]\n",
      " [0 0 0 2 0 1 0 0 0 0 0 1]\n",
      " [0 1 0 0 0 0 2 1 0 0 0 0]]\n",
      "\n",
      "Optimizing for 100 rounds...\n",
      "(2, np.int64(1)),(2, np.int64(1)) -> (4, np.int64(5)),(4, np.int64(5))\n",
      "(4, np.int64(1)),(2, np.int64(3)) -> (4, np.int64(1)),(2, np.int64(1))\n",
      "(4, np.int64(2)),(4, np.int64(5)) -> (4, np.int64(4)),(4, np.int64(2))\n",
      "(2, np.int64(1)),(4, np.int64(1)) -> (4, np.int64(2)),(4, np.int64(2))\n",
      "(4, np.int64(4)),(4, np.int64(1)) -> (4, np.int64(3)),(4, np.int64(2))\n",
      "(4, np.int64(4)),(2, np.int64(1)) -> (4, np.int64(1)),(4, np.int64(2))\n",
      "(4, np.int64(4)),(4, np.int64(2)) -> (4, np.int64(1)),(6, np.int64(12))\n",
      "(4, np.int64(3)),(4, np.int64(1)) -> (4, np.int64(2)),(4, np.int64(1))\n",
      "(2, np.int64(1)),(4, np.int64(2)) -> (2, np.int64(1)),(4, np.int64(1))\n",
      "(4, np.int64(2)),(4, np.int64(1)) -> (6, np.int64(18)),(4, np.int64(1))\n",
      "(4, np.int64(2)),(4, np.int64(1)) -> (4, np.int64(1)),(4, np.int64(1))\n",
      "(6, np.int64(17)),(2, np.int64(1)) -> (4, np.int64(2)),(4, np.int64(2))\n",
      "(4, np.int64(2)),(4, np.int64(1)) -> (6, np.int64(17)),(4, np.int64(1))\n",
      "\n",
      "Optimizing for another 10 rounds...\n",
      "\n",
      "Optimizing for another 10 rounds...\n",
      "\n",
      "Optimizing for another 10 rounds...\n",
      "(4, np.int64(2)),(4, np.int64(1)) -> (4, np.int64(1)),(4, np.int64(1))\n",
      "\n",
      "Optimizing for another 10 rounds...\n",
      "(6, np.int64(16)),(4, np.int64(2)) -> (6, np.int64(17)),(4, np.int64(1))\n",
      "\n",
      "Optimizing for another 10 rounds...\n",
      "(4, np.int64(1)),(4, np.int64(1)) -> (4, np.int64(1)),(6, np.int64(18))\n",
      "\n",
      "Optimized parity-check matrix H (rank 9):\n",
      "[[0 0 0 0 0 1 1 0 0 1 0 1]\n",
      " [1 0 0 0 1 0 0 0 0 0 1 1]\n",
      " [0 1 0 1 0 0 0 1 0 0 0 1]\n",
      " [1 0 1 0 0 1 0 1 0 0 0 0]\n",
      " [0 1 0 0 0 0 0 1 1 0 1 0]\n",
      " [1 0 0 0 0 0 1 0 1 1 0 0]\n",
      " [0 0 1 1 0 0 0 0 0 1 1 0]\n",
      " [0 0 0 1 1 1 0 0 1 0 0 0]\n",
      " [0 1 1 0 1 0 1 0 0 0 0 0]]\n"
     ]
    }
   ],
   "source": [
    "from quits.ldpc_utility import (\n",
    "    generate_ldpc,\n",
    "    optimize_ldpc,\n",
    "    has_duplicate_edges,\n",
    "    binary_matrix_rank,\n",
    ")\n",
    "\n",
    "# Define LDPC parameters\n",
    "n = 12  # Number of variable nodes\n",
    "dv = 3  # Variable node degree\n",
    "dc = 4  # Check node degree (m = n * dv / dc should be an integer)\n",
    "\n",
    "# Generate an initial parity-check matrix\n",
    "H = generate_ldpc(n, dv, dc)\n",
    "print(\"Original parity-check matrix H:\")\n",
    "print(H)\n",
    "\n",
    "# Perform initial optimization\n",
    "rounds = 100\n",
    "print(f\"\\nOptimizing for {rounds} rounds...\")\n",
    "H = optimize_ldpc(H, rounds, max_depth=10)\n",
    "\n",
    "# Continue optimizing until constraints are satisfied\n",
    "while has_duplicate_edges(H) or binary_matrix_rank(H) < H.shape[0]:\n",
    "\n",
    "    # Additional optimization rounds\n",
    "    rounds = 10\n",
    "    print(f\"\\nOptimizing for another {rounds} rounds...\")\n",
    "    H = optimize_ldpc(H, rounds, max_depth=10)\n",
    "\n",
    "# Display the final optimized parity-check matrix\n",
    "print(f\"\\nOptimized parity-check matrix H (rank {binary_matrix_rank(H)}):\")\n",
    "print(H)\n",
    "\n",
    "# Further optimization can be performed if needed."
   ]
  },
  {
   "cell_type": "code",
   "execution_count": 24,
   "id": "b9f0c934",
   "metadata": {},
   "outputs": [
    {
     "name": "stdout",
     "output_type": "stream",
     "text": [
      "Code parameters: [n = 12, k = 3, d <= 4]\n"
     ]
    }
   ],
   "source": [
    "from ldpc.code_util import compute_code_parameters\n",
    "\n",
    "n, k, d_estimate = compute_code_parameters(H, timeout_seconds=1)\n",
    "print(f\"Code parameters: [n = {n}, k = {k}, d <= {d_estimate}]\")"
   ]
  },
  {
   "cell_type": "markdown",
   "id": "2f6d59a1",
   "metadata": {},
   "source": [
    "import "
   ]
  },
  {
   "cell_type": "code",
   "execution_count": 17,
   "id": "73d9ca1c",
   "metadata": {},
   "outputs": [],
   "source": [
    "code = HgpCode(H, H)\n",
    "code.build_graph(seed=42)"
   ]
  },
  {
   "cell_type": "code",
   "execution_count": 18,
   "id": "ee020686",
   "metadata": {},
   "outputs": [
    {
     "name": "stdout",
     "output_type": "stream",
     "text": [
      "# data qubits:  125  # logical qubits:  25\n",
      "# z-check qubits:  50  # x-check qubits:  50\n",
      "# layers of entangling gates:  12\n"
     ]
    }
   ],
   "source": [
    "num_zcheck, num_data = code.hz.shape\n",
    "num_xcheck, num_data = code.hx.shape\n",
    "num_logical = code.lz.shape[0]\n",
    "depth = sum(list(code.num_colors.values()))\n",
    "print(\"# data qubits: \", num_data, \" # logical qubits: \", num_logical)\n",
    "print(\"# z-check qubits: \", num_zcheck, \" # x-check qubits: \", num_xcheck)\n",
    "print(\"# layers of entangling gates: \", depth)"
   ]
  },
  {
   "cell_type": "code",
   "execution_count": 21,
   "id": "9770597e",
   "metadata": {},
   "outputs": [],
   "source": [
    "p = 1e-3  # physical error rate\n",
    "num_rounds = 5  # number of rounds (T-1)\n",
    "basis = \"Z\"  # 'Z' or 'X'\n",
    "\n",
    "circuit = stim.Circuit(\n",
    "    get_qldpc_mem_circuit(\n",
    "        code, p, p, p, p, num_rounds, basis=basis, noisy_init=True, noisy_meas=False\n",
    "    )\n",
    ")"
   ]
  },
  {
   "cell_type": "markdown",
   "id": "8575f157",
   "metadata": {},
   "source": [
    "## Load QLDPC codes and circuits\n",
    "\n",
    "### Hypergraph product (HGP) code\n",
    "\n",
    "Load the parity check matrix of the classical LDPC code stored in '../parity_check_matrices' directory.  \n",
    "The parity check matrix `h` is found from `quits.ldpc_utility.generate_ldpc`, following the method in A. Grospellier, *Constant time decoding of quantum expander codes and application to fault-tolerant quantum computation* (2019)."
   ]
  },
  {
   "cell_type": "code",
   "execution_count": 2,
   "id": "1153de04",
   "metadata": {},
   "outputs": [
    {
     "name": "stdout",
     "output_type": "stream",
     "text": [
      "Shape of classical code's parity check matrix:  (9, 12)\n"
     ]
    }
   ],
   "source": [
    "# Load the parity check matrix of the classical code that is used to construct the hgp code\n",
    "h = np.loadtxt(\"../parity_check_matrices/n=12_dv=3_dc=4_dist=6.txt\", dtype=int)\n",
    "print(\"Shape of classical code's parity check matrix: \", h.shape)"
   ]
  },
  {
   "cell_type": "code",
   "execution_count": 3,
   "id": "03e0c7d5",
   "metadata": {},
   "outputs": [
    {
     "name": "stdout",
     "output_type": "stream",
     "text": [
      "# data qubits:  225  # logical qubits:  9\n",
      "# z-check qubits:  108  # x-check qubits:  108\n",
      "# layers of entangling gates:  8\n"
     ]
    }
   ],
   "source": [
    "code = HgpCode(h, h)  # Define the HgpCode object\n",
    "code.build_graph(seed=22)  # Build the Tanner graph and assign directions to its edges.\n",
    "# For this specific h, seed=22 gives a circuit with entangling depth 8.\n",
    "num_zcheck, num_data = code.hz.shape\n",
    "num_xcheck, num_data = code.hx.shape\n",
    "num_logical = code.lz.shape[0]\n",
    "depth = sum(list(code.num_colors.values()))\n",
    "print(\"# data qubits: \", num_data, \" # logical qubits: \", num_logical)\n",
    "print(\"# z-check qubits: \", num_zcheck, \" # x-check qubits: \", num_xcheck)\n",
    "print(\"# layers of entangling gates: \", depth)"
   ]
  },
  {
   "cell_type": "code",
   "execution_count": 4,
   "id": "0ac63072",
   "metadata": {},
   "outputs": [],
   "source": [
    "p = 1e-3  # physical error rate\n",
    "num_rounds = 15  # number of rounds (T-1)\n",
    "basis = \"Z\"  # 'Z' or 'X'\n",
    "\n",
    "circuit = stim.Circuit(get_qldpc_mem_circuit(code, p, p, p, p, num_rounds, basis=basis))\n",
    "# print(circuit)"
   ]
  },
  {
   "cell_type": "markdown",
   "id": "30d8e978",
   "metadata": {},
   "source": [
    "### Quasi-cyclic lifted product (QLP) code\n",
    "\n",
    "The base matrix `b` is brought from Q. Xu et al., *Nat. Phys.* 20, 1084 (2024). Each entry represents the exponent of the monomial. "
   ]
  },
  {
   "cell_type": "code",
   "execution_count": 5,
   "id": "132bfc43",
   "metadata": {},
   "outputs": [],
   "source": [
    "lift_size = 16\n",
    "b = np.array(\n",
    "    [\n",
    "        [0, 0, 0, 0, 0],  # [e, e, e, e, e]\n",
    "        [0, 2, 4, 7, 11],  # [e, x^2, x^4, x^7, x^11]\n",
    "        [0, 3, 10, 14, 15],  # [e, x^3, x^10, x^14, x^15]\n",
    "    ]\n",
    ")"
   ]
  },
  {
   "cell_type": "code",
   "execution_count": 6,
   "id": "62fc6388",
   "metadata": {},
   "outputs": [
    {
     "name": "stdout",
     "output_type": "stream",
     "text": [
      "# data qubits:  544  # logical qubits:  80\n",
      "# z-check qubits:  240  # x-check qubits:  240\n",
      "# layers of entangling gates:  12\n"
     ]
    }
   ],
   "source": [
    "code = QlpCode(b, b, lift_size)  # Define the QlpCode object\n",
    "code.build_graph(seed=1)  # Build the Tanner graph and assign directions to its edges.\n",
    "\n",
    "num_zcheck, num_data = code.hz.shape\n",
    "num_xcheck, num_data = code.hx.shape\n",
    "num_logical = code.lz.shape[0]\n",
    "depth = sum(list(code.num_colors.values()))\n",
    "print(\"# data qubits: \", num_data, \" # logical qubits: \", num_logical)\n",
    "print(\"# z-check qubits: \", num_zcheck, \" # x-check qubits: \", num_xcheck)\n",
    "print(\"# layers of entangling gates: \", depth)"
   ]
  },
  {
   "cell_type": "code",
   "execution_count": 7,
   "id": "299ae491",
   "metadata": {},
   "outputs": [],
   "source": [
    "p = 1e-3  # physical error rate\n",
    "num_rounds = 15  # number of rounds (T-1)\n",
    "basis = \"Z\"  # 'Z' or 'X'\n",
    "\n",
    "circuit = stim.Circuit(get_qldpc_mem_circuit(code, p, p, p, p, num_rounds, basis=basis))\n",
    "# print(circuit)"
   ]
  },
  {
   "cell_type": "markdown",
   "id": "2b766d08",
   "metadata": {},
   "source": [
    "### Balanced product cyclic (BPC) code\n",
    "\n",
    "This code is introduced in R. Tiew & N. P. Breuckmann, arXiv:2411.03302. "
   ]
  },
  {
   "cell_type": "code",
   "execution_count": 8,
   "id": "68975ae8",
   "metadata": {},
   "outputs": [],
   "source": [
    "lift_size, factor = 15, 3\n",
    "p1 = [0, 1, 5]  # e + x + x^5\n",
    "p2 = [0, 2, 7]  # e + x^2 + x^7"
   ]
  },
  {
   "cell_type": "code",
   "execution_count": 9,
   "id": "d1eb9f95",
   "metadata": {},
   "outputs": [
    {
     "name": "stdout",
     "output_type": "stream",
     "text": [
      "# data qubits:  90  # logical qubits:  8\n",
      "# z-check qubits:  45  # x-check qubits:  45\n",
      "# layers of entangling gates:  8\n"
     ]
    }
   ],
   "source": [
    "code = BpcCode(p1, p2, lift_size, factor)  # Define the BpcCode object\n",
    "code.build_graph(seed=1)  # Build the Tanner graph and assign directions to its edges.\n",
    "\n",
    "num_zcheck, num_data = code.hz.shape\n",
    "num_xcheck, num_data = code.hx.shape\n",
    "num_logical = code.lz.shape[0]\n",
    "depth = sum(list(code.num_colors.values()))\n",
    "print(\"# data qubits: \", num_data, \" # logical qubits: \", num_logical)\n",
    "print(\"# z-check qubits: \", num_zcheck, \" # x-check qubits: \", num_xcheck)\n",
    "print(\"# layers of entangling gates: \", depth)"
   ]
  },
  {
   "cell_type": "code",
   "execution_count": 10,
   "id": "e5bdce14",
   "metadata": {},
   "outputs": [],
   "source": [
    "p = 2e-3  # physical error rate\n",
    "num_rounds = 15  # number of rounds (T-1)\n",
    "basis = \"Z\"  # 'Z' or 'X'\n",
    "\n",
    "circuit = stim.Circuit(get_qldpc_mem_circuit(code, p, p, p, p, num_rounds, basis=basis))\n",
    "# print(circuit)"
   ]
  },
  {
   "cell_type": "markdown",
   "id": "c6415618",
   "metadata": {},
   "source": [
    "# Simulate the QEC performance"
   ]
  },
  {
   "cell_type": "code",
   "execution_count": 11,
   "id": "59700b1d",
   "metadata": {},
   "outputs": [
    {
     "name": "stderr",
     "output_type": "stream",
     "text": [
      "100%|██████████| 100/100 [00:47<00:00,  2.12it/s]"
     ]
    },
    {
     "name": "stdout",
     "output_type": "stream",
     "text": [
      "p: 0.0020000, LFR: 0.0006698\n"
     ]
    },
    {
     "name": "stderr",
     "output_type": "stream",
     "text": [
      "\n"
     ]
    }
   ],
   "source": [
    "num_trials = 100\n",
    "## Simulate the circuit using Stim.\n",
    "detection_events, observable_flips = get_stim_mem_result(\n",
    "    circuit, num_trials, seed=1\n",
    ")  # simulate the circuit using Stim\n",
    "\n",
    "W, F = 5, 3  # sliding window parameters\n",
    "max_iter, osd_order = 20, 10  # BP-OSD decoder parameters\n",
    "\n",
    "# Perform decoding of the detection_events generated from simulating the circuit.\n",
    "# Returns the logical observable flip predicted from decoding.\n",
    "logical_pred = sliding_window_bposd_circuit_mem(\n",
    "    detection_events,\n",
    "    circuit,\n",
    "    code.hz,\n",
    "    code.lz,\n",
    "    W,\n",
    "    F,\n",
    "    max_iter=max_iter,\n",
    "    osd_order=osd_order,\n",
    "    tqdm_on=True,\n",
    ")\n",
    "\n",
    "# Logical error is recorded whenever logical_pred does not match observable_flips for any logical qubit at any round\n",
    "pL = np.sum((observable_flips - logical_pred).any(axis=1)) / num_trials\n",
    "lfr = 1 - (1 - pL) ** (1 / num_rounds)\n",
    "print(\"p: %.7f, LFR: %.7f\" % (p, lfr))"
   ]
  },
  {
   "cell_type": "markdown",
   "id": "7a6cca06-6a29-48e0-8406-7afa417d1d86",
   "metadata": {},
   "source": [
    "## Example of using a customized inner decoder for sliding-window decoding"
   ]
  },
  {
   "cell_type": "code",
   "execution_count": 14,
   "id": "ef3b0a84-c13a-4d5f-800f-a72e7347af8b",
   "metadata": {},
   "outputs": [],
   "source": [
    "# use the BP-OSD decoder from the LDPC package (https://software.roffe.eu/ldpc/) as an example\n",
    "from quits.decoder import sliding_window_bposd_circuit_mem, sliding_window_circuit_mem\n",
    "from ldpc.bposd_decoder import BpOsdDecoder\n",
    "\n",
    "\"\"\"\n",
    "Note that it is allowed to use a different decoder (Decoder2) for the last decoding window \n",
    "than the one used for the other windows (Decoder1).\n",
    "This feature is useful when you want to: \n",
    "   i.e. running BP decoder for all other windows but use BPOSD for the last window to make sure the correction match the syndrome\n",
    "   \n",
    "The name of the decoder class is the BpOsdDecoder\n",
    "The method of this class that takes in a syndrome and returns a correction is \"decode\"\n",
    "The parameter of BpOsdDecoder that stores the individual error rate for different error mechanisms is \"channel_probs\"\n",
    "An instance of this class is initialized with a parity check matirx, \"channel_probs\", and the other parameters listed below\n",
    "\"\"\"\n",
    "# Other paramters that defines the decoders\n",
    "dict1 = {\n",
    "    \"bp_method\": \"product_sum\",\n",
    "    \"max_iter\": max_iter,\n",
    "    \"schedule\": \"serial\",\n",
    "    \"osd_method\": \"osd_cs\",\n",
    "    \"osd_order\": osd_order,\n",
    "}\n",
    "dict2 = {\n",
    "    \"bp_method\": \"product_sum\",\n",
    "    \"max_iter\": max_iter,\n",
    "    \"schedule\": \"serial\",\n",
    "    \"osd_method\": \"osd_cs\",\n",
    "    \"osd_order\": osd_order,\n",
    "}\n",
    "# Returns the logical observable flip predicted from decoding.\n",
    "logical_pred = sliding_window_circuit_mem(\n",
    "    detection_events,\n",
    "    circuit,\n",
    "    code.hz,\n",
    "    code.lz,\n",
    "    W,\n",
    "    F,\n",
    "    BpOsdDecoder,\n",
    "    BpOsdDecoder,\n",
    "    dict1,\n",
    "    dict2,\n",
    "    \"channel_probs\",\n",
    "    \"channel_probs\",\n",
    "    \"decode\",\n",
    "    \"decode\",\n",
    "    tqdm_on=True,\n",
    ")"
   ]
  }
 ],
 "metadata": {
  "kernelspec": {
   "display_name": ".venv",
   "language": "python",
   "name": "python3"
  },
  "language_info": {
   "codemirror_mode": {
    "name": "ipython",
    "version": 3
   },
   "file_extension": ".py",
   "mimetype": "text/x-python",
   "name": "python",
   "nbconvert_exporter": "python",
   "pygments_lexer": "ipython3",
   "version": "3.11.3"
  }
 },
 "nbformat": 4,
 "nbformat_minor": 5
}
