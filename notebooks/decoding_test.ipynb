{
 "cells": [
  {
   "cell_type": "code",
   "execution_count": 3,
   "id": "e925d20a",
   "metadata": {},
   "outputs": [
    {
     "name": "stdout",
     "output_type": "stream",
     "text": [
      "The autoreload extension is already loaded. To reload it, use:\n",
      "  %reload_ext autoreload\n"
     ]
    }
   ],
   "source": [
    "# Autoreload extension for Jupyter notebooks\n",
    "%load_ext autoreload\n",
    "%autoreload 2\n",
    "\n",
    "# Manual reload\n",
    "from importlib import reload\n",
    "\n",
    "# Magic commands for inline plotting and high-res figures\n",
    "%matplotlib inline\n",
    "%config InlineBackend.figure_format ='retina'\n",
    "\n",
    "# Standard library imports\n",
    "import os\n",
    "import sys\n",
    "import pickle\n",
    "from pprint import pprint\n",
    "\n",
    "# Third-party library imports\n",
    "import numpy as np\n",
    "import pandas as pd\n",
    "import matplotlib.pyplot as plt\n",
    "import seaborn as sns\n",
    "from jupyterthemes import jtplot\n",
    "from tqdm import tqdm\n",
    "\n",
    "# Add the parent directory to sys.path (if needed)\n",
    "# from pathlib import Path\n",
    "# sys.path.append(str(Path(os.getcwd()).parent))\n",
    "\n",
    "# Other modules (if needed)\n",
    "\n",
    "# Pandas and plotting configurations\n",
    "pd.set_option('display.max_rows', 1000)\n",
    "idx = pd.IndexSlice\n",
    "\n",
    "# Plotting configurations\n",
    "DFT_FIG_WIDTH_WIDE = 11\n",
    "DFT_FIG_WIDTH = 5.3\n",
    "COLORS = plt.get_cmap('tab10')\n",
    "# Choose in ['Pastel1', 'Pastel2', 'Paired', 'Accent', 'Dark2', 'Set1', 'Set2', 'Set3', \n",
    "# 'tab10', 'tab20', 'tab20b', 'tab20c']\n",
    "\n",
    "jtplot.style(context=\"paper\", theme=\"grade3\", grid=True, ticks=True, fscale=1.1)\n",
    "plt.rcParams.update(\n",
    "    {\n",
    "        \"grid.alpha\": 0.5,\n",
    "        \"axes.prop_cycle\": plt.cycler(\"color\", plt.cm.tab10.colors),\n",
    "    }\n",
    ")\n",
    "CMU = \"CMU Sans Serif\"  # Default font in LaTeX\n",
    "\n",
    "# Utility functions\n",
    "def write_pickle(path, obj):\n",
    "    with open(path, 'wb') as f:\n",
    "        pickle.dump(obj, f)\n",
    "\n",
    "def read_pickle(path):\n",
    "    with open(path, 'rb') as f:\n",
    "        obj = pickle.load(f)\n",
    "    return obj"
   ]
  },
  {
   "cell_type": "code",
   "execution_count": 4,
   "id": "95825744",
   "metadata": {},
   "outputs": [
    {
     "name": "stdout",
     "output_type": "stream",
     "text": [
      "Starting sliding window decoding with W=9, F=1\n",
      "Max detector time: 12\n",
      "Total detectors: 936\n",
      "\n",
      "Window 0: time range [0, 8]\n",
      "Window matrix shape: (648, 7560)\n",
      "Active faults: 7560\n",
      "Violated detectors: 60\n",
      "Commit region: [0, 0]\n",
      "Committing 5 faults\n",
      "Updated 9 detector outcomes\n",
      "Total prediction weight: 5\n",
      "Remaining violated detectors: 62\n",
      "\n",
      "Window 1: time range [1, 9]\n",
      "Window matrix shape: (648, 8280)\n",
      "Active faults: 8280\n",
      "Violated detectors: 52\n",
      "Commit region: [1, 1]\n",
      "Committing 7 faults\n",
      "Updated 11 detector outcomes\n",
      "Total prediction weight: 12\n",
      "Remaining violated detectors: 57\n",
      "\n",
      "Window 2: time range [2, 10]\n",
      "Window matrix shape: (648, 8280)\n",
      "Active faults: 8280\n",
      "Violated detectors: 45\n",
      "Commit region: [2, 2]\n",
      "Committing 1 faults\n",
      "Updated 3 detector outcomes\n",
      "Total prediction weight: 13\n",
      "Remaining violated detectors: 54\n",
      "\n",
      "Window 3: time range [3, 11]\n",
      "Window matrix shape: (648, 8280)\n",
      "Active faults: 8280\n",
      "Violated detectors: 50\n",
      "Commit region: [3, 3]\n",
      "Committing 4 faults\n",
      "Updated 9 detector outcomes\n",
      "Total prediction weight: 17\n",
      "Remaining violated detectors: 45\n",
      "\n",
      "Window 4: time range [4, 12]\n",
      "Window matrix shape: (648, 7632)\n",
      "Active faults: 7632\n",
      "Violated detectors: 42\n",
      "Final window: committing all faults\n",
      "Updated 42 detector outcomes\n",
      "Total prediction weight: 34\n",
      "Remaining violated detectors: 3\n",
      "\n",
      "Sliding window decoding completed!\n",
      "Total windows processed: 5\n",
      "Final prediction weight: 34\n",
      "Committed clusters: 65 faults in 21 clusters\n",
      "Committed cluster sizes: [10303     7     2     1     2     1     2     1     4     1    33     1\n",
      "     1     1     1     1     1     1     1     1     1     1]\n",
      "Committed cluster LLRs: [6.21935404e+04 3.34065386e+01 9.60285857e+00 4.52586506e+00\n",
      " 9.05173011e+00 4.52586506e+00 1.09620154e+01 4.52586506e+00\n",
      " 2.19240308e+01 6.43615037e+00 1.81115346e+02 6.43615037e+00\n",
      " 4.52586506e+00 5.25734923e+00 6.43615037e+00 4.52586506e+00\n",
      " 5.25734923e+00 5.87624976e+00 4.52586506e+00 4.52586506e+00\n",
      " 6.43615037e+00 4.52586506e+00]\n"
     ]
    },
    {
     "ename": "ValueError",
     "evalue": "Decoding outcome invalid",
     "output_type": "error",
     "traceback": [
      "\u001b[31m---------------------------------------------------------------------------\u001b[39m",
      "\u001b[31mValueError\u001b[39m                                Traceback (most recent call last)",
      "\u001b[36mCell\u001b[39m\u001b[36m \u001b[39m\u001b[32mIn[4]\u001b[39m\u001b[32m, line 9\u001b[39m\n\u001b[32m      7\u001b[39m fails = []\n\u001b[32m      8\u001b[39m \u001b[38;5;28;01mfor\u001b[39;00m seed \u001b[38;5;129;01min\u001b[39;00m \u001b[38;5;28mrange\u001b[39m(\u001b[32m1\u001b[39m):\n\u001b[32m----> \u001b[39m\u001b[32m9\u001b[39m     fail, soft_outputs = \u001b[43mdecoder\u001b[49m\u001b[43m.\u001b[49m\u001b[43msimulate_single\u001b[49m\u001b[43m(\u001b[49m\n\u001b[32m     10\u001b[39m \u001b[43m        \u001b[49m\u001b[43msliding_window\u001b[49m\u001b[43m=\u001b[49m\u001b[38;5;28;43;01mTrue\u001b[39;49;00m\u001b[43m,\u001b[49m\u001b[43m \u001b[49m\u001b[43mwindow_size\u001b[49m\u001b[43m=\u001b[49m\u001b[32;43m9\u001b[39;49m\u001b[43m,\u001b[49m\u001b[43m \u001b[49m\u001b[43mcommit_size\u001b[49m\u001b[43m=\u001b[49m\u001b[32;43m1\u001b[39;49m\u001b[43m,\u001b[49m\u001b[43m \u001b[49m\u001b[43mverbose\u001b[49m\u001b[43m=\u001b[49m\u001b[38;5;28;43;01mTrue\u001b[39;49;00m\u001b[43m,\u001b[49m\u001b[43m \u001b[49m\u001b[43mseed\u001b[49m\u001b[43m=\u001b[49m\u001b[43mseed\u001b[49m\n\u001b[32m     11\u001b[39m \u001b[43m    \u001b[49m\u001b[43m)\u001b[49m\n\u001b[32m     12\u001b[39m     fails.append(fail)\n\u001b[32m     13\u001b[39m \u001b[38;5;28msum\u001b[39m(fails) / \u001b[38;5;28mlen\u001b[39m(fails)\n",
      "\u001b[36mFile \u001b[39m\u001b[32m~/Library/Mobile Documents/com~apple~CloudDocs/Work/Research/USYD/24-PostSelectionDecoding/ldpc-post-selection/src/ldpc_post_selection/bplsd_decoder.py:781\u001b[39m, in \u001b[36mSoftOutputsBpLsdDecoder.simulate_single\u001b[39m\u001b[34m(self, sliding_window, seed, **kwargs)\u001b[39m\n\u001b[32m    779\u001b[39m valid = \u001b[38;5;129;01mnot\u001b[39;00m \u001b[38;5;28mbool\u001b[39m(np.any(residual @ \u001b[38;5;28mself\u001b[39m.H.T % \u001b[32m2\u001b[39m))\n\u001b[32m    780\u001b[39m \u001b[38;5;28;01mif\u001b[39;00m \u001b[38;5;129;01mnot\u001b[39;00m valid:\n\u001b[32m--> \u001b[39m\u001b[32m781\u001b[39m     \u001b[38;5;28;01mraise\u001b[39;00m \u001b[38;5;167;01mValueError\u001b[39;00m(\u001b[33m\"\u001b[39m\u001b[33mDecoding outcome invalid\u001b[39m\u001b[33m\"\u001b[39m)\n\u001b[32m    783\u001b[39m fail = \u001b[38;5;28mbool\u001b[39m(np.any((residual @ \u001b[38;5;28mself\u001b[39m.obs_matrix.T) % \u001b[32m2\u001b[39m))\n\u001b[32m    785\u001b[39m \u001b[38;5;28;01mreturn\u001b[39;00m fail, soft_outputs\n",
      "\u001b[31mValueError\u001b[39m: Decoding outcome invalid"
     ]
    }
   ],
   "source": [
    "from ldpc_post_selection.bplsd_decoder import SoftOutputsBpLsdDecoder\n",
    "from simulations.utils.build_circuit import build_BB_circuit\n",
    "\n",
    "circuit = build_BB_circuit(n=144, T=12, p=3e-3)\n",
    "decoder = SoftOutputsBpLsdDecoder(circuit=circuit)\n",
    "\n",
    "fails = []\n",
    "for seed in range(1):\n",
    "    fail, soft_outputs = decoder.simulate_single(\n",
    "        sliding_window=True, window_size=9, commit_size=1, verbose=True, seed=seed\n",
    "    )\n",
    "    fails.append(fail)\n",
    "sum(fails) / len(fails)"
   ]
  },
  {
   "cell_type": "code",
   "execution_count": 73,
   "id": "8333a573",
   "metadata": {},
   "outputs": [
    {
     "data": {
      "text/plain": [
       "0.01"
      ]
     },
     "execution_count": 73,
     "metadata": {},
     "output_type": "execute_result"
    }
   ],
   "source": [
    "fails = []\n",
    "for seed in range(100):\n",
    "    fail, soft_outputs = decoder.simulate_single(\n",
    "        sliding_window=False, verbose=False, seed=seed\n",
    "    )\n",
    "    fails.append(fail)\n",
    "sum(fails) / len(fails)"
   ]
  }
 ],
 "metadata": {
  "kernelspec": {
   "display_name": ".venv",
   "language": "python",
   "name": "python3"
  },
  "language_info": {
   "codemirror_mode": {
    "name": "ipython",
    "version": 3
   },
   "file_extension": ".py",
   "mimetype": "text/x-python",
   "name": "python",
   "nbconvert_exporter": "python",
   "pygments_lexer": "ipython3",
   "version": "3.11.3"
  }
 },
 "nbformat": 4,
 "nbformat_minor": 5
}
