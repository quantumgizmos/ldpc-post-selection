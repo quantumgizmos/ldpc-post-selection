{
 "cells": [
  {
   "cell_type": "code",
   "execution_count": 1,
   "id": "e925d20a",
   "metadata": {},
   "outputs": [],
   "source": [
    "# Autoreload extension for Jupyter notebooks\n",
    "%load_ext autoreload\n",
    "%autoreload 2\n",
    "\n",
    "# Manual reload\n",
    "from importlib import reload\n",
    "\n",
    "# Magic commands for inline plotting and high-res figures\n",
    "%matplotlib inline\n",
    "%config InlineBackend.figure_format ='retina'\n",
    "\n",
    "# Standard library imports\n",
    "import os\n",
    "import sys\n",
    "import pickle\n",
    "from pprint import pprint\n",
    "\n",
    "# Third-party library imports\n",
    "import numpy as np\n",
    "import pandas as pd\n",
    "import matplotlib.pyplot as plt\n",
    "import seaborn as sns\n",
    "from jupyterthemes import jtplot\n",
    "from tqdm import tqdm\n",
    "\n",
    "# Add the parent directory to sys.path (if needed)\n",
    "# from pathlib import Path\n",
    "# sys.path.append(str(Path(os.getcwd()).parent))\n",
    "\n",
    "# Other modules (if needed)\n",
    "\n",
    "# Pandas and plotting configurations\n",
    "pd.set_option('display.max_rows', 1000)\n",
    "idx = pd.IndexSlice\n",
    "\n",
    "# Plotting configurations\n",
    "DFT_FIG_WIDTH_WIDE = 11\n",
    "DFT_FIG_WIDTH = 5.3\n",
    "COLORS = plt.get_cmap('tab10')\n",
    "# Choose in ['Pastel1', 'Pastel2', 'Paired', 'Accent', 'Dark2', 'Set1', 'Set2', 'Set3', \n",
    "# 'tab10', 'tab20', 'tab20b', 'tab20c']\n",
    "\n",
    "jtplot.style(context=\"paper\", theme=\"grade3\", grid=True, ticks=True, fscale=1.1)\n",
    "plt.rcParams.update(\n",
    "    {\n",
    "        \"grid.alpha\": 0.5,\n",
    "        \"axes.prop_cycle\": plt.cycler(\"color\", plt.cm.tab10.colors),\n",
    "    }\n",
    ")\n",
    "CMU = \"CMU Sans Serif\"  # Default font in LaTeX\n",
    "\n",
    "# Utility functions\n",
    "def write_pickle(path, obj):\n",
    "    with open(path, 'wb') as f:\n",
    "        pickle.dump(obj, f)\n",
    "\n",
    "def read_pickle(path):\n",
    "    with open(path, 'rb') as f:\n",
    "        obj = pickle.load(f)\n",
    "    return obj"
   ]
  },
  {
   "cell_type": "code",
   "execution_count": 69,
   "id": "f4a3d47a",
   "metadata": {},
   "outputs": [],
   "source": [
    "from ldpc_post_selection.bplsd_decoder import SoftOutputsBpLsdDecoder\n",
    "from simulations.utils.build_circuit import build_BB_circuit\n",
    "\n",
    "circuit = build_BB_circuit(n=144, T=12, p=3e-3)\n",
    "decoder = SoftOutputsBpLsdDecoder(circuit=circuit)"
   ]
  },
  {
   "cell_type": "code",
   "execution_count": 74,
   "id": "95825744",
   "metadata": {},
   "outputs": [
    {
     "ename": "ValueError",
     "evalue": "Decoding outcome invalid",
     "output_type": "error",
     "traceback": [
      "\u001b[31m---------------------------------------------------------------------------\u001b[39m",
      "\u001b[31mValueError\u001b[39m                                Traceback (most recent call last)",
      "\u001b[36mCell\u001b[39m\u001b[36m \u001b[39m\u001b[32mIn[74]\u001b[39m\u001b[32m, line 3\u001b[39m\n\u001b[32m      1\u001b[39m fails = []\n\u001b[32m      2\u001b[39m \u001b[38;5;28;01mfor\u001b[39;00m seed \u001b[38;5;129;01min\u001b[39;00m \u001b[38;5;28mrange\u001b[39m(\u001b[32m1\u001b[39m):\n\u001b[32m----> \u001b[39m\u001b[32m3\u001b[39m     fail, soft_outputs = \u001b[43mdecoder\u001b[49m\u001b[43m.\u001b[49m\u001b[43msimulate_single\u001b[49m\u001b[43m(\u001b[49m\n\u001b[32m      4\u001b[39m \u001b[43m        \u001b[49m\u001b[43msliding_window\u001b[49m\u001b[43m=\u001b[49m\u001b[38;5;28;43;01mTrue\u001b[39;49;00m\u001b[43m,\u001b[49m\u001b[43m \u001b[49m\u001b[43mwindow_size\u001b[49m\u001b[43m=\u001b[49m\u001b[32;43m9\u001b[39;49m\u001b[43m,\u001b[49m\u001b[43m \u001b[49m\u001b[43mcommit_size\u001b[49m\u001b[43m=\u001b[49m\u001b[32;43m1\u001b[39;49m\u001b[43m,\u001b[49m\u001b[43m \u001b[49m\u001b[43mverbose\u001b[49m\u001b[43m=\u001b[49m\u001b[38;5;28;43;01mFalse\u001b[39;49;00m\u001b[43m,\u001b[49m\u001b[43m \u001b[49m\u001b[43mseed\u001b[49m\u001b[43m=\u001b[49m\u001b[43mseed\u001b[49m\n\u001b[32m      5\u001b[39m \u001b[43m    \u001b[49m\u001b[43m)\u001b[49m\n\u001b[32m      6\u001b[39m     fails.append(fail)\n\u001b[32m      7\u001b[39m \u001b[38;5;28msum\u001b[39m(fails) / \u001b[38;5;28mlen\u001b[39m(fails)\n",
      "\u001b[36mFile \u001b[39m\u001b[32m<string>:13\u001b[39m, in \u001b[36msimulate_single\u001b[39m\u001b[34m(self, sliding_window, seed, **kwargs)\u001b[39m\n",
      "\u001b[31mValueError\u001b[39m: Decoding outcome invalid"
     ]
    }
   ],
   "source": [
    "fails = []\n",
    "for seed in range(1):\n",
    "    fail, soft_outputs = decoder.simulate_single(\n",
    "        sliding_window=True, window_size=9, commit_size=1, verbose=False, seed=seed\n",
    "    )\n",
    "    fails.append(fail)\n",
    "sum(fails) / len(fails)"
   ]
  },
  {
   "cell_type": "code",
   "execution_count": 73,
   "id": "8333a573",
   "metadata": {},
   "outputs": [
    {
     "data": {
      "text/plain": [
       "0.01"
      ]
     },
     "execution_count": 73,
     "metadata": {},
     "output_type": "execute_result"
    }
   ],
   "source": [
    "fails = []\n",
    "for seed in range(100):\n",
    "    fail, soft_outputs = decoder.simulate_single(\n",
    "        sliding_window=False, verbose=False, seed=seed\n",
    "    )\n",
    "    fails.append(fail)\n",
    "sum(fails) / len(fails)"
   ]
  }
 ],
 "metadata": {
  "kernelspec": {
   "display_name": ".venv",
   "language": "python",
   "name": "python3"
  },
  "language_info": {
   "codemirror_mode": {
    "name": "ipython",
    "version": 3
   },
   "file_extension": ".py",
   "mimetype": "text/x-python",
   "name": "python",
   "nbconvert_exporter": "python",
   "pygments_lexer": "ipython3",
   "version": "3.11.3"
  }
 },
 "nbformat": 4,
 "nbformat_minor": 5
}
