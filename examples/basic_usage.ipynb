{
 "cells": [
  {
   "cell_type": "markdown",
   "id": "b0599ef1",
   "metadata": {},
   "source": [
    "# Basic usage for `ldpc_post_selection` package"
   ]
  },
  {
   "cell_type": "code",
   "execution_count": 2,
   "id": "437a98a4",
   "metadata": {},
   "outputs": [],
   "source": [
    "import stim\n",
    "import numpy as np"
   ]
  },
  {
   "cell_type": "markdown",
   "id": "afa87a0a",
   "metadata": {},
   "source": [
    "## Global strategy"
   ]
  },
  {
   "cell_type": "code",
   "execution_count": 3,
   "id": "1d6e5348",
   "metadata": {},
   "outputs": [],
   "source": [
    "# Example circuit\n",
    "from ldpc_post_selection.stim_tools import remove_detectors_from_circuit\n",
    "\n",
    "circuit = stim.Circuit.generated(\n",
    "    \"surface_code:rotated_memory_z\",\n",
    "    rounds=9,\n",
    "    distance=9,\n",
    "    after_clifford_depolarization=0.005,\n",
    "    before_measure_flip_probability=0.005,\n",
    "    after_reset_flip_probability=0.005,\n",
    ")\n",
    "\n",
    "# Use only Z-type detectors for evaluating confidence\n",
    "\n",
    "detector_coords = circuit.get_detector_coordinates()\n",
    "det_ids_to_remove = []  # X-type detectors\n",
    "for det_id, (x, y, z) in detector_coords.items():\n",
    "    if (round(x) + round(y)) % 4 == 2:\n",
    "        det_ids_to_remove.append(det_id)\n",
    "circuit = remove_detectors_from_circuit(circuit, det_ids_to_remove)"
   ]
  },
  {
   "cell_type": "code",
   "execution_count": 4,
   "id": "c9dfb097",
   "metadata": {},
   "outputs": [],
   "source": [
    "# Defining the soft-output BP+LSD decoder\n",
    "from ldpc_post_selection.decoder import SoftOutputsBpLsdDecoder\n",
    "\n",
    "bplsd = SoftOutputsBpLsdDecoder(\n",
    "    circuit=circuit,\n",
    "    max_iter=30,\n",
    "    bp_method=\"minimum_sum\",\n",
    "    lsd_method=\"LSD_0\",\n",
    "    lsd_order=0,\n",
    "    ms_scaling_factor=1.0,\n",
    ")"
   ]
  },
  {
   "cell_type": "markdown",
   "id": "366dd7f8",
   "metadata": {},
   "source": [
    "### Example: Single sample"
   ]
  },
  {
   "cell_type": "code",
   "execution_count": 5,
   "id": "c726e74f",
   "metadata": {},
   "outputs": [
    {
     "name": "stdout",
     "output_type": "stream",
     "text": [
      "Correction: [False False False ... False False False]\n",
      "Correction from BP (valid only when BP converges): [False False False ... False False False]\n",
      "Whether BP converges: True\n",
      "Decoding success: True\n",
      "\n",
      "Soft outputs:\n",
      "{'cluster_llrs': array([1.00665782e+04, 4.36430835e+00, 5.92425580e+00, 4.53799718e+00,\n",
      "       4.17360043e+00, 5.05741505e+00, 4.17360043e+00, 4.53799718e+00,\n",
      "       4.17360043e+00, 4.17360043e+00, 5.23111577e+00]),\n",
      " 'cluster_sizes': array([1935,    1,    1,    1,    1,    1,    1,    1,    1,    1,    1]),\n",
      " 'clusters': array([0, 0, 0, ..., 0, 0, 0], shape=(1945,)),\n",
      " 'detector_density': np.float64(0.05),\n",
      " 'pred_llr': 46.34749104768056}\n"
     ]
    }
   ],
   "source": [
    "# Create a single sample\n",
    "sampler = circuit.compile_detector_sampler(seed=42)\n",
    "det, obs = sampler.sample(shots=1, separate_observables=True)\n",
    "\n",
    "# Decode the sample and obtain soft outputs\n",
    "correction, correction_bp, converge, soft_outputs = bplsd.decode(det[0])\n",
    "obs_correction = correction @ bplsd.obs_matrix.T % 2\n",
    "success = np.all(obs[0] == obs_correction)\n",
    "\n",
    "from pprint import pprint\n",
    "\n",
    "print(\"Correction:\", correction)\n",
    "print(\"Correction from BP (valid only when BP converges):\", correction_bp)\n",
    "print(\"Whether BP converges:\", converge)\n",
    "print(\"Decoding success:\", success)\n",
    "print()\n",
    "print(\"Soft outputs:\")\n",
    "pprint(soft_outputs)"
   ]
  },
  {
   "cell_type": "markdown",
   "id": "69570cd3",
   "metadata": {},
   "source": [
    "**Soft outputs:**\n",
    "\n",
    "- `'cluster_sizes'`: Cluster sizes (first element: outside clusters)\n",
    "- `'cluster_llrs'`: LLR sums within each cluster (first element: outside clusters)\n",
    "- `'clusters'`: Cluster assignment for each error mechanism (0: outside clusters, `i>0`: `i`-th cluster)\n",
    "- `'detector_density'`: Number of violated detectors divided by the total number of detectors\n",
    "- `'pred_llr'`: LLR weight of the correction"
   ]
  },
  {
   "cell_type": "code",
   "execution_count": 6,
   "id": "9220d719",
   "metadata": {},
   "outputs": [
    {
     "name": "stdout",
     "output_type": "stream",
     "text": [
      "Cluster size 2-norm fraction = 0.0016258496967446682\n",
      "Cluster LLR 2-norm fraction = 0.0014598231241090044\n",
      "Cluster size infinity-norm fraction = 0.0005141388174807198\n",
      "Cluster LLR infinity-norm fraction = 0.0005858102776987654\n"
     ]
    }
   ],
   "source": [
    "# Computing cluster size/LLR norm fractions\n",
    "\n",
    "from ldpc_post_selection.cluster_tools import compute_cluster_norm_fraction\n",
    "\n",
    "size_norm_frac = compute_cluster_norm_fraction(soft_outputs[\"cluster_sizes\"], 2)\n",
    "llr_norm_frac = compute_cluster_norm_fraction(soft_outputs[\"cluster_llrs\"], 2)\n",
    "print(\"Cluster size 2-norm fraction =\", size_norm_frac)\n",
    "print(\"Cluster LLR 2-norm fraction =\", llr_norm_frac)\n",
    "\n",
    "size_norm_frac = compute_cluster_norm_fraction(soft_outputs[\"cluster_sizes\"], np.inf)\n",
    "llr_norm_frac = compute_cluster_norm_fraction(soft_outputs[\"cluster_llrs\"], np.inf)\n",
    "print(\"Cluster size infinity-norm fraction =\", size_norm_frac)\n",
    "print(\"Cluster LLR infinity-norm fraction =\", llr_norm_frac)"
   ]
  },
  {
   "cell_type": "markdown",
   "id": "ef8fd87c",
   "metadata": {},
   "source": [
    "### Example: Batch simulation"
   ]
  },
  {
   "cell_type": "code",
   "execution_count": 7,
   "id": "69ade88e",
   "metadata": {},
   "outputs": [
    {
     "name": "stderr",
     "output_type": "stream",
     "text": [
      "100%|██████████| 100000/100000 [00:54<00:00, 1824.02it/s]\n"
     ]
    }
   ],
   "source": [
    "from tqdm import tqdm\n",
    "\n",
    "shots = 100000\n",
    "\n",
    "sampler = circuit.compile_detector_sampler(seed=42)\n",
    "det, obs = sampler.sample(shots=shots, separate_observables=True)\n",
    "\n",
    "fails = []\n",
    "norm_fracs = []\n",
    "\n",
    "for i_sample in tqdm(list(range(shots))):\n",
    "    correction, _, _, soft_outputs = bplsd.decode(det[i_sample])\n",
    "    obs_correction = correction @ bplsd.obs_matrix.T % 2\n",
    "    fail = np.any(obs[i_sample] != obs_correction)\n",
    "    norm_frac = compute_cluster_norm_fraction(soft_outputs[\"cluster_llrs\"], 2)\n",
    "    fails.append(fail)\n",
    "    norm_fracs.append(norm_frac)"
   ]
  },
  {
   "cell_type": "code",
   "execution_count": 8,
   "id": "119707d2",
   "metadata": {},
   "outputs": [],
   "source": [
    "# Calculating failure rates for different cutoffs\n",
    "\n",
    "from statsmodels.stats.proportion import proportion_confint\n",
    "\n",
    "fails_array = np.array(fails)\n",
    "norm_fracs_array = np.array(norm_fracs)\n",
    "cutoffs = np.logspace(np.log10(min(norm_fracs)), np.log10(max(norm_fracs)), 100)\n",
    "\n",
    "mask = norm_fracs_array[np.newaxis, :] <= cutoffs[:, np.newaxis]\n",
    "num_accepted = mask.sum(axis=1)\n",
    "num_failures = (mask * fails_array[np.newaxis, :]).sum(axis=1)\n",
    "\n",
    "failure_rates = num_failures / num_accepted\n",
    "abort_rates = 1 - num_accepted / shots\n",
    "\n",
    "# Calculate 95% confidence intervals using Wilson score interval\n",
    "confidence_level = 0.95\n",
    "\n",
    "# Failure rate confidence intervals\n",
    "failure_rate_lower, failure_rate_upper = proportion_confint(\n",
    "    num_failures, num_accepted, alpha=1 - confidence_level, method=\"wilson\"\n",
    ")\n",
    "\n",
    "# Abort rate confidence intervals (based on selection rate)\n",
    "# Calculate CI for selection rate, then convert to abort rate\n",
    "selection_rate_lower, selection_rate_upper = proportion_confint(\n",
    "    num_accepted, shots, alpha=1 - confidence_level, method=\"wilson\"\n",
    ")\n",
    "\n",
    "# Abort rate is 1 - selection rate, so we flip the bounds\n",
    "abort_rate_lower = 1 - selection_rate_upper\n",
    "abort_rate_upper = 1 - selection_rate_lower"
   ]
  },
  {
   "cell_type": "code",
   "execution_count": 9,
   "id": "38ce1d61",
   "metadata": {},
   "outputs": [
    {
     "data": {
      "image/png": "[encoded data removed]",
      "text/plain": [
       "<Figure size 500x300 with 2 Axes>"
      ]
     },
     "metadata": {},
     "output_type": "display_data"
    }
   ],
   "source": [
    "# Plotting failure and abort rates vs cutoffs\n",
    "\n",
    "import matplotlib.pyplot as plt\n",
    "\n",
    "fig, ax1 = plt.subplots(figsize=(5, 3))\n",
    "\n",
    "# Plot failure rate on left y-axis\n",
    "color1 = \"tab:blue\"\n",
    "ax1.set_xlabel(\"Cutoff\")\n",
    "ax1.set_ylabel(\"Failure Rate\", color=color1)\n",
    "ax1.plot(cutoffs, failure_rates, color=color1, label=\"Failure Rate\")\n",
    "ax1.fill_between(\n",
    "    cutoffs, failure_rate_lower, failure_rate_upper, color=color1, alpha=0.2\n",
    ")\n",
    "ax1.tick_params(axis=\"y\", labelcolor=color1)\n",
    "ax1.grid(True, alpha=0.3)\n",
    "\n",
    "# Create second y-axis for abort rate\n",
    "ax2 = ax1.twinx()\n",
    "color2 = \"tab:orange\"\n",
    "ax2.set_ylabel(\"Abort Rate\", color=color2)\n",
    "ax2.plot(cutoffs, abort_rates, color=color2, label=\"Abort Rate\")\n",
    "ax2.fill_between(cutoffs, abort_rate_lower, abort_rate_upper, color=color2, alpha=0.2)\n",
    "ax2.tick_params(axis=\"y\", labelcolor=color2)\n",
    "\n",
    "# Add a legend\n",
    "lines1, labels1 = ax1.get_legend_handles_labels()\n",
    "lines2, labels2 = ax2.get_legend_handles_labels()\n",
    "ax1.legend(lines1 + lines2, labels1 + labels2)\n",
    "\n",
    "ax1.set_xscale(\"log\")\n",
    "ax1.set_yscale(\"log\")\n",
    "\n",
    "ax1.set_xlim(1e-3, 1e-1)\n",
    "ax1.set_ylim(1e-6, 1)\n",
    "ax2.set_ylim(0, 1)\n",
    "\n",
    "plt.tight_layout()\n",
    "plt.show()"
   ]
  },
  {
   "cell_type": "markdown",
   "id": "3115ed2c",
   "metadata": {},
   "source": [
    "## Real-time strategy"
   ]
  },
  {
   "cell_type": "code",
   "execution_count": 10,
   "id": "ed3ab2ec",
   "metadata": {},
   "outputs": [],
   "source": [
    "# Example circuit\n",
    "from ldpc_post_selection.stim_tools import remove_detectors_from_circuit\n",
    "\n",
    "distance = 9\n",
    "total_rounds = 9\n",
    "\n",
    "circuit = stim.Circuit.generated(\n",
    "    \"surface_code:rotated_memory_z\",\n",
    "    rounds=total_rounds,\n",
    "    distance=distance,\n",
    "    after_clifford_depolarization=0.005,\n",
    "    before_measure_flip_probability=0.005,\n",
    "    after_reset_flip_probability=0.005,\n",
    ")\n",
    "\n",
    "# Use only Z-type detectors for evaluating confidence\n",
    "detector_coords = circuit.get_detector_coordinates()\n",
    "det_ids_to_remove = []  # X-type detectors\n",
    "for det_id, (x, y, z) in detector_coords.items():\n",
    "    if (round(x) + round(y)) % 4 == 2:\n",
    "        det_ids_to_remove.append(det_id)\n",
    "circuit = remove_detectors_from_circuit(circuit, det_ids_to_remove)"
   ]
  },
  {
   "cell_type": "code",
   "execution_count": 11,
   "id": "daede557",
   "metadata": {},
   "outputs": [],
   "source": [
    "# Defining the decoder\n",
    "from ldpc_post_selection.decoder import SoftOutputsBpLsdDecoder\n",
    "\n",
    "bplsd = SoftOutputsBpLsdDecoder(\n",
    "    circuit=circuit,\n",
    "    max_iter=30,\n",
    "    bp_method=\"minimum_sum\",\n",
    "    lsd_method=\"LSD_0\",\n",
    "    lsd_order=0,\n",
    "    ms_scaling_factor=1.0,\n",
    "    detector_time_coords=-1,\n",
    ")"
   ]
  },
  {
   "cell_type": "markdown",
   "id": "65787817",
   "metadata": {},
   "source": [
    "*Note:* The `detector_time_coords` parameter (default `-1`) determines the time coordinates of detectors, which is necessary for sliding-window decoding (SWD). If an integer `i` is given, the `i`-th coordinate of each detector annotated in the stim circuit is treated as its time coordinate. If a sequence of integers is given, it directly specifies the time coordinates. The time coordinates **must** start from 0; otherwise, an error is raised."
   ]
  },
  {
   "cell_type": "markdown",
   "id": "e642ef9f",
   "metadata": {},
   "source": [
    "### Example: Single sample"
   ]
  },
  {
   "cell_type": "code",
   "execution_count": 12,
   "id": "48d745e5",
   "metadata": {},
   "outputs": [
    {
     "name": "stdout",
     "output_type": "stream",
     "text": [
      "Correction: [False False False ... False False False]\n",
      "Decoding success: True\n",
      "\n",
      "Soft outputs:\n",
      "{'all_clusters': [array([0, 0, 0, ..., 0, 0, 0], shape=(1945,)),\n",
      "                  array([0, 0, 0, ..., 0, 0, 0], shape=(1945,)),\n",
      "                  array([0, 0, 0, ..., 0, 0, 0], shape=(1945,)),\n",
      "                  array([0, 0, 0, ..., 0, 0, 0], shape=(1945,)),\n",
      "                  array([0, 0, 0, ..., 0, 0, 0], shape=(1945,)),\n",
      "                  array([0, 0, 0, ..., 0, 0, 0], shape=(1945,)),\n",
      "                  array([0, 0, 0, ..., 0, 0, 0], shape=(1945,)),\n",
      "                  array([0, 0, 0, ..., 0, 0, 0], shape=(1945,))],\n",
      " 'committed_clusters': [array([False, False, False, ..., False, False, False], shape=(1945,)),\n",
      "                        array([False, False, False, ..., False, False, False], shape=(1945,)),\n",
      "                        array([False, False, False, ..., False, False, False], shape=(1945,)),\n",
      "                        array([False, False, False, ..., False, False, False], shape=(1945,)),\n",
      "                        array([False, False, False, ..., False, False, False], shape=(1945,)),\n",
      "                        array([False, False, False, ..., False, False, False], shape=(1945,)),\n",
      "                        array([False, False, False, ..., False, False, False], shape=(1945,)),\n",
      "                        array([False, False, False, ..., False, False, False], shape=(1945,))],\n",
      " 'committed_faults': [array([ True,  True,  True, ..., False, False, False], shape=(1945,)),\n",
      "                      array([False, False, False, ..., False, False, False], shape=(1945,)),\n",
      "                      array([False, False, False, ..., False, False, False], shape=(1945,)),\n",
      "                      array([False, False, False, ..., False, False, False], shape=(1945,)),\n",
      "                      array([False, False, False, ..., False, False, False], shape=(1945,)),\n",
      "                      array([False, False, False, ..., False, False, False], shape=(1945,)),\n",
      "                      array([False, False, False, ..., False, False, False], shape=(1945,)),\n",
      "                      array([False, False, False, ...,  True,  True,  True], shape=(1945,))]}\n"
     ]
    }
   ],
   "source": [
    "sampler = circuit.compile_detector_sampler(seed=42)\n",
    "det, obs = sampler.sample(shots=1, separate_observables=True)\n",
    "\n",
    "window_size = 3\n",
    "commit_size = 1\n",
    "\n",
    "correction, soft_outputs = bplsd.decode_sliding_window(\n",
    "    det[0], window_size=window_size, commit_size=commit_size\n",
    ")\n",
    "obs_correction = correction @ bplsd.obs_matrix.T % 2\n",
    "success = np.all(obs[0] == obs_correction)\n",
    "\n",
    "from pprint import pprint\n",
    "\n",
    "print(\"Correction:\", correction)\n",
    "print(\"Decoding success:\", success)\n",
    "print()\n",
    "print(\"Soft outputs:\")\n",
    "pprint(soft_outputs)"
   ]
  },
  {
   "cell_type": "markdown",
   "id": "56671296",
   "metadata": {},
   "source": [
    "**Soft outputs:**\n",
    "\n",
    "All the values of the dictionary are lists of arrays, where each element is obtained from decoding a window. Namely, the length of each list is equal to the number of windows.\n",
    "\n",
    "- `all_clusters[i]` (integer array): Cluster assignment obtained from decoding the `i`-th window.\n",
    "- `committed_clusters[i]` (boolean array): Specifies whether each error mechanism belongs to a cluster AND is committed from the `i`-th window.\n",
    "- `committed_faults[i]` (boolean array): Specifies whether each error mechanism is committed from the `i`-th window. (This is determined by the circuit and the parameters of SWD, independent of the sample, and thus it is strictly not a soft output of decoding. However, we include this in the dictionary for convenience.)"
   ]
  },
  {
   "cell_type": "code",
   "execution_count": 13,
   "id": "676ea16a",
   "metadata": {},
   "outputs": [
    {
     "name": "stdout",
     "output_type": "stream",
     "text": [
      "Committed cluster LLR 2-norm fractions for each evaluation region:\n",
      "  After window 2 (round 4): 0.00267203324593658\n",
      "  After window 3 (round 5): 0.0026186116409883534\n",
      "  After window 4 (round 6): 0.0022801462841924997\n",
      "  After window 5 (round 7): 0.0018076362689302106\n",
      "  After window 6 (round 8): 0.0022801462841924997\n",
      "  After window 7 (data qubit measurement): 0.002214614056924642\n",
      "  (Window and round indices start from 0.)\n"
     ]
    }
   ],
   "source": [
    "# Computing commited cluster norm fractions\n",
    "\n",
    "from ldpc_post_selection.sliding_window_tools import CommittedClusterNormCalculator\n",
    "\n",
    "# A calculator instance with pre-computed information\n",
    "# Can be efficiently reused for multiple samples or metric parameters\n",
    "committed_cluster_norm_calculator = CommittedClusterNormCalculator(\n",
    "    committed_faults=soft_outputs[\"committed_faults\"],\n",
    "    priors=bplsd.priors,\n",
    "    H=bplsd.H,\n",
    ")\n",
    "\n",
    "# Computing the committed cluster norm fraction for a sample\n",
    "# for a given norm order, value type, and lookback window size\n",
    "norm_order = 2\n",
    "value_type = \"llr\"  # 'llr' or 'size'\n",
    "lookback_window_size = 3\n",
    "norm_fracs = committed_cluster_norm_calculator.compute(\n",
    "    committed_clusters=soft_outputs[\"committed_clusters\"],\n",
    "    norm_order=norm_order,\n",
    "    value_type=value_type,\n",
    "    lookback_window_size=lookback_window_size,\n",
    ")\n",
    "\n",
    "print(\n",
    "    f\"Committed cluster {value_type.upper()} {norm_order}-norm fractions for each evaluation region:\"\n",
    ")\n",
    "for i, norm_frac in enumerate(norm_fracs):\n",
    "    i_window = i + lookback_window_size - 1\n",
    "    i_round = i_window * commit_size + window_size - 1\n",
    "    round_text = (\n",
    "        f\"round {i_round}\" if i_round < total_rounds else \"data qubit measurement\"\n",
    "    )\n",
    "    print(f\"  After window {i_window} ({round_text}): {norm_frac}\")\n",
    "print(\"  (Window and round indices start from 0.)\")"
   ]
  },
  {
   "cell_type": "markdown",
   "id": "cb63ccf3",
   "metadata": {},
   "source": [
    "### Example: Batch simulation"
   ]
  },
  {
   "cell_type": "code",
   "execution_count": 14,
   "id": "f8df0c49",
   "metadata": {},
   "outputs": [
    {
     "name": "stderr",
     "output_type": "stream",
     "text": [
      "100%|██████████| 10000/10000 [00:23<00:00, 433.97it/s]\n"
     ]
    }
   ],
   "source": [
    "# Sampling & decoding\n",
    "\n",
    "from tqdm import tqdm\n",
    "\n",
    "shots = 10000\n",
    "window_size = 3\n",
    "commit_size = 1\n",
    "\n",
    "sampler = circuit.compile_detector_sampler(seed=42)\n",
    "det, obs = sampler.sample(shots=shots, separate_observables=True)\n",
    "\n",
    "fails = []\n",
    "committed_clusters = []\n",
    "committed_faults = None\n",
    "\n",
    "for i_sample in tqdm(list(range(shots))):\n",
    "    correction, soft_outputs = bplsd.decode_sliding_window(\n",
    "        det[i_sample], window_size=window_size, commit_size=commit_size\n",
    "    )\n",
    "    obs_correction = correction @ bplsd.obs_matrix.T % 2\n",
    "    fail = np.any(obs[i_sample] != obs_correction)\n",
    "    fails.append(fail)\n",
    "    committed_clusters.append(soft_outputs[\"committed_clusters\"])\n",
    "    if committed_faults is None:\n",
    "        committed_faults = soft_outputs[\"committed_faults\"]\n",
    "\n",
    "fails = np.array(fails)"
   ]
  },
  {
   "cell_type": "code",
   "execution_count": 15,
   "id": "384a70b0",
   "metadata": {},
   "outputs": [
    {
     "name": "stderr",
     "output_type": "stream",
     "text": [
      "  0%|          | 0/10000 [00:00<?, ?it/s]"
     ]
    },
    {
     "name": "stderr",
     "output_type": "stream",
     "text": [
      "100%|██████████| 10000/10000 [00:01<00:00, 7582.91it/s]\n"
     ]
    }
   ],
   "source": [
    "# Calculating committed cluster norm fractions\n",
    "\n",
    "norm_order = 2\n",
    "value_type = \"llr\"  # 'llr' or 'size'\n",
    "lookback_window_size = 3\n",
    "\n",
    "committed_cluster_norm_calculator = CommittedClusterNormCalculator(\n",
    "    committed_faults=committed_faults,\n",
    "    priors=bplsd.priors,\n",
    "    H=bplsd.H,\n",
    ")\n",
    "\n",
    "norm_fracs = []\n",
    "for i_sample in tqdm(list(range(shots))):\n",
    "    norm_fracs_sample = committed_cluster_norm_calculator.compute(\n",
    "        committed_clusters=committed_clusters[i_sample],\n",
    "        norm_order=norm_order,\n",
    "        value_type=value_type,\n",
    "        lookback_window_size=lookback_window_size,\n",
    "    )\n",
    "    norm_fracs.append(norm_fracs_sample)\n",
    "norm_fracs = np.vstack(norm_fracs)"
   ]
  },
  {
   "cell_type": "code",
   "execution_count": 16,
   "id": "e75348ac",
   "metadata": {},
   "outputs": [
    {
     "data": {
      "text/plain": [
       "array([4, 5, 6, 7, 8, 8])"
      ]
     },
     "execution_count": 16,
     "metadata": {},
     "output_type": "execute_result"
    }
   ],
   "source": [
    "window_indices = np.arange(norm_fracs.shape[1]) + lookback_window_size - 1\n",
    "round_indices = window_indices * commit_size + window_size - 1\n",
    "round_indices = np.minimum(round_indices, total_rounds - 1)\n",
    "\n",
    "# Round indice for each evaluation region (row of norm_fracs)\n",
    "# The final data qubit measurement is treated to be included in the last round.\n",
    "round_indices"
   ]
  },
  {
   "cell_type": "code",
   "execution_count": 17,
   "id": "14effac6",
   "metadata": {},
   "outputs": [],
   "source": [
    "# Computing the aborted round indices (or -1 if accepted) for each sample and cutoff\n",
    "\n",
    "# Cutoff values\n",
    "max_norm_frac_for_each_sample = norm_fracs.max(axis=1)\n",
    "norm_frac_min = np.min(max_norm_frac_for_each_sample)\n",
    "norm_frac_max = np.max(max_norm_frac_for_each_sample)\n",
    "cutoffs = np.logspace(np.log10(norm_frac_min), np.log10(norm_frac_max), 101)[1:]\n",
    "\n",
    "# Find the smallest round index where norm_frac >= cutoff for each sample and cutoff\n",
    "num_samples = norm_fracs.shape[0]\n",
    "num_cutoffs = len(cutoffs)\n",
    "\n",
    "# Shape: (num_samples, num_windows, num_cutoffs)\n",
    "exceeds_cutoff = norm_fracs[:, :, np.newaxis] >= cutoffs[np.newaxis, np.newaxis, :]\n",
    "\n",
    "# Initialize aborted_rounds with -1 (accepted)\n",
    "aborted_rounds = np.full((num_samples, num_cutoffs), -1, dtype=int)\n",
    "\n",
    "# For each sample and cutoff, find the first window where condition is met\n",
    "for i_sample in range(num_samples):\n",
    "    for i_cutoff in range(num_cutoffs):\n",
    "        # Find first window index where norm_frac >= cutoff\n",
    "        window_idx = np.argmax(exceeds_cutoff[i_sample, :, i_cutoff])\n",
    "        # Check if condition is actually met (argmax returns 0 even if all False)\n",
    "        if exceeds_cutoff[i_sample, window_idx, i_cutoff]:\n",
    "            aborted_rounds[i_sample, i_cutoff] = round_indices[window_idx]"
   ]
  },
  {
   "cell_type": "code",
   "execution_count": 18,
   "id": "0f56308b",
   "metadata": {},
   "outputs": [],
   "source": [
    "# Calculating failure rates and average time costs per accepted shot\n",
    "\n",
    "from statsmodels.stats.proportion import proportion_confint\n",
    "\n",
    "accepted = aborted_rounds == -1\n",
    "last_rounds = np.where(accepted, round_indices[-1], aborted_rounds)\n",
    "\n",
    "num_accepted = np.sum(accepted, axis=0)\n",
    "\n",
    "avg_time_cost_per_accepted_shot = np.sum(last_rounds + 1, axis=0) / np.sum(\n",
    "    accepted, axis=0\n",
    ")\n",
    "\n",
    "num_failures = np.sum(fails[:, np.newaxis] & accepted, axis=0)\n",
    "num_accepted = np.sum(accepted, axis=0)\n",
    "failure_rates = num_failures / num_accepted\n",
    "failure_rate_lower, failure_rate_upper = proportion_confint(\n",
    "    num_failures, num_accepted, alpha=0.05, method=\"wilson\"\n",
    ")"
   ]
  },
  {
   "cell_type": "code",
   "execution_count": 19,
   "id": "727c6ab4",
   "metadata": {},
   "outputs": [
    {
     "data": {
      "image/png": "[encoded data removed]",
      "text/plain": [
       "<Figure size 500x300 with 2 Axes>"
      ]
     },
     "metadata": {},
     "output_type": "display_data"
    }
   ],
   "source": [
    "# Plotting failure rate and average time cost vs cutoffs\n",
    "\n",
    "import matplotlib.pyplot as plt\n",
    "\n",
    "fig, ax1 = plt.subplots(figsize=(5, 3))\n",
    "\n",
    "# Plot failure rate on left y-axis\n",
    "color1 = \"tab:blue\"\n",
    "ax1.set_xlabel(\"Cutoff\")\n",
    "ax1.set_ylabel(\"Failure Rate\", color=color1)\n",
    "ax1.plot(cutoffs, failure_rates, color=color1, label=\"Failure Rate\")\n",
    "ax1.fill_between(\n",
    "    cutoffs, failure_rate_lower, failure_rate_upper, color=color1, alpha=0.2\n",
    ")\n",
    "ax1.tick_params(axis=\"y\", labelcolor=color1)\n",
    "ax1.grid(True, alpha=0.3)\n",
    "\n",
    "# Create second y-axis for average time cost\n",
    "ax2 = ax1.twinx()\n",
    "color2 = \"tab:orange\"\n",
    "ax2.set_ylabel(\"Avg Time Cost per Accepted Shot\", color=color2)\n",
    "ax2.plot(\n",
    "    cutoffs,\n",
    "    avg_time_cost_per_accepted_shot,\n",
    "    color=color2,\n",
    "    label=\"Avg. Time Cost Per Acc. Shot\",\n",
    ")\n",
    "ax2.tick_params(axis=\"y\", labelcolor=color2)\n",
    "\n",
    "# Add a legend\n",
    "lines1, labels1 = ax1.get_legend_handles_labels()\n",
    "lines2, labels2 = ax2.get_legend_handles_labels()\n",
    "ax1.legend(lines1 + lines2, labels1 + labels2)\n",
    "\n",
    "ax1.set_xscale(\"log\")\n",
    "ax1.set_yscale(\"log\")\n",
    "\n",
    "ax1.set_xlim(1e-3, max(cutoffs))\n",
    "ax1.set_ylim(1e-6, 1)\n",
    "ax2.set_ylim(0, 50)\n",
    "\n",
    "plt.tight_layout()\n",
    "plt.show()"
   ]
  }
 ],
 "metadata": {
  "kernelspec": {
   "display_name": "ldpc-post-selection",
   "language": "python",
   "name": "python3"
  },
  "language_info": {
   "codemirror_mode": {
    "name": "ipython",
    "version": 3
   },
   "file_extension": ".py",
   "mimetype": "text/x-python",
   "name": "python",
   "nbconvert_exporter": "python",
   "pygments_lexer": "ipython3",
   "version": "3.11.3"
  }
 },
 "nbformat": 4,
 "nbformat_minor": 5
}
