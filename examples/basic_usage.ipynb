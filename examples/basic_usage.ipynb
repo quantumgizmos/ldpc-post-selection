{
 "cells": [
  {
   "cell_type": "markdown",
   "id": "b0599ef1",
   "metadata": {},
   "source": [
    "# Basic usage for `ldpc_post_selection` package"
   ]
  },
  {
   "cell_type": "code",
   "execution_count": 1,
   "id": "437a98a4",
   "metadata": {},
   "outputs": [],
   "source": [
    "import stim\n",
    "import numpy as np\n",
    "\n",
    "%load_ext autoreload\n",
    "%autoreload 2"
   ]
  },
  {
   "cell_type": "markdown",
   "id": "afa87a0a",
   "metadata": {},
   "source": [
    "## Global strategy"
   ]
  },
  {
   "cell_type": "code",
   "execution_count": 2,
   "id": "1d6e5348",
   "metadata": {},
   "outputs": [],
   "source": [
    "# Example circuit\n",
    "from ldpc_post_selection.stim_tools import remove_detectors_from_circuit\n",
    "\n",
    "circuit = stim.Circuit.generated(\n",
    "    \"surface_code:rotated_memory_z\",\n",
    "    rounds=9,\n",
    "    distance=9,\n",
    "    after_clifford_depolarization=0.005,\n",
    "    before_measure_flip_probability=0.005,\n",
    "    after_reset_flip_probability=0.005,\n",
    ")\n",
    "\n",
    "# Use only Z-type detectors for evaluating confidence\n",
    "\n",
    "detector_coords = circuit.get_detector_coordinates()\n",
    "det_ids_to_remove = []  # X-type detectors\n",
    "for det_id, (x, y, z) in detector_coords.items():\n",
    "    if (round(x) + round(y)) % 4 == 2:\n",
    "        det_ids_to_remove.append(det_id)\n",
    "circuit = remove_detectors_from_circuit(circuit, det_ids_to_remove)"
   ]
  },
  {
   "cell_type": "code",
   "execution_count": 3,
   "id": "c9dfb097",
   "metadata": {},
   "outputs": [],
   "source": [
    "# Define the decoder\n",
    "from ldpc_post_selection.decoder import SoftOutputsBpLsdDecoder\n",
    "\n",
    "bplsd = SoftOutputsBpLsdDecoder(\n",
    "    circuit=circuit,\n",
    "    max_iter=30,\n",
    "    bp_method=\"minimum_sum\",\n",
    "    lsd_method=\"LSD_0\",\n",
    "    lsd_order=0,\n",
    "    ms_scaling_factor=1.0,\n",
    ")"
   ]
  },
  {
   "cell_type": "code",
   "execution_count": 4,
   "id": "c726e74f",
   "metadata": {},
   "outputs": [
    {
     "name": "stdout",
     "output_type": "stream",
     "text": [
      "Correction: [False False False ... False False False]\n",
      "Correction from BP (valid only when BP converges): [False False False ... False False False]\n",
      "Whether BP converges: True\n",
      "Decoding success: True\n",
      "\n",
      "Soft outputs:\n",
      "{'cluster_llrs': array([1.00665782e+04, 4.36430835e+00, 5.92425580e+00, 4.53799718e+00,\n",
      "       4.17360043e+00, 5.05741505e+00, 4.17360043e+00, 4.53799718e+00,\n",
      "       4.17360043e+00, 4.17360043e+00, 5.23111577e+00]),\n",
      " 'cluster_sizes': array([1935,    1,    1,    1,    1,    1,    1,    1,    1,    1,    1]),\n",
      " 'clusters': array([0, 0, 0, ..., 0, 0, 0], shape=(1945,)),\n",
      " 'detector_density': np.float64(0.05),\n",
      " 'pred_llr': 46.34749104768056}\n"
     ]
    }
   ],
   "source": [
    "# Decode a single sample with soft outputs\n",
    "\n",
    "sampler = circuit.compile_detector_sampler(seed=42)\n",
    "det, obs = sampler.sample(shots=1, separate_observables=True)\n",
    "\n",
    "correction, correction_bp, converge, soft_outputs = bplsd.decode(det[0])\n",
    "obs_correction = correction @ bplsd.obs_matrix.T % 2\n",
    "success = np.all(obs[0] == obs_correction)\n",
    "\n",
    "\n",
    "from pprint import pprint\n",
    "\n",
    "print(\"Correction:\", correction)\n",
    "print(\"Correction from BP (valid only when BP converges):\", correction_bp)\n",
    "print(\"Whether BP converges:\", converge)\n",
    "print(\"Decoding success:\", success)\n",
    "print()\n",
    "print(\"Soft outputs:\")\n",
    "pprint(soft_outputs)"
   ]
  },
  {
   "cell_type": "markdown",
   "id": "69570cd3",
   "metadata": {},
   "source": [
    "**Soft outputs:**\n",
    "\n",
    "- `'cluster_sizes'`: Cluster sizes (first element: outside clusters)\n",
    "- `'cluster_llrs'`: LLR sums within each cluster (first element: outside clusters)\n",
    "- `'clusters'`: Cluster assignment for each error mechanism (0: outside clusters, `i>0`: `i`-th cluster)\n",
    "- `'detector_density'`: Number of violated detectors divided by the total number of detectors\n",
    "- `'pred_llr'`: LLR weight of the correction\n",
    "\n",
    "*Note:* The `norm_frac_orders` parameter of `decode()` is optional and exists just for convenience. Alternatively, the size/LLR norm fraction can be manually calculated from `'cluster_sizes'` and `'cluster_llrs'`."
   ]
  },
  {
   "cell_type": "code",
   "execution_count": 8,
   "id": "9220d719",
   "metadata": {},
   "outputs": [
    {
     "name": "stdout",
     "output_type": "stream",
     "text": [
      "Cluster size 2-norm fraction = 0.0016258496967446682\n",
      "Cluster LLR 2-norm fraction = 0.0014598231241090044\n",
      "Cluster size infinity-norm fraction = 0.0005141388174807198\n",
      "Cluster LLR infinity-norm fraction = 0.0005858102776987654\n"
     ]
    }
   ],
   "source": [
    "# Compute cluster size/LLR norm fractions\n",
    "\n",
    "from ldpc_post_selection.cluster_tools import compute_norm_fraction\n",
    "\n",
    "size_norm_frac = compute_norm_fraction(soft_outputs[\"cluster_sizes\"], 2)\n",
    "llr_norm_frac = compute_norm_fraction(soft_outputs[\"cluster_llrs\"], 2)\n",
    "print(\"Cluster size 2-norm fraction =\", size_norm_frac)\n",
    "print(\"Cluster LLR 2-norm fraction =\", llr_norm_frac)\n",
    "\n",
    "size_norm_frac = compute_norm_fraction(soft_outputs[\"cluster_sizes\"], np.inf)\n",
    "llr_norm_frac = compute_norm_fraction(soft_outputs[\"cluster_llrs\"], np.inf)\n",
    "print(\"Cluster size infinity-norm fraction =\", size_norm_frac)\n",
    "print(\"Cluster LLR infinity-norm fraction =\", llr_norm_frac)"
   ]
  },
  {
   "cell_type": "code",
   "execution_count": 9,
   "id": "69ade88e",
   "metadata": {},
   "outputs": [
    {
     "name": "stderr",
     "output_type": "stream",
     "text": [
      "100%|██████████| 100000/100000 [00:53<00:00, 1856.17it/s]\n"
     ]
    }
   ],
   "source": [
    "# Post-selection simulation with cluster LLR 2-norm fraction\n",
    "\n",
    "from tqdm import tqdm\n",
    "\n",
    "shots = 100000\n",
    "\n",
    "sampler = circuit.compile_detector_sampler(seed=42)\n",
    "det, obs = sampler.sample(shots=shots, separate_observables=True)\n",
    "\n",
    "fails = []\n",
    "norm_fracs = []\n",
    "\n",
    "for i_sample in tqdm(list(range(shots))):\n",
    "    correction, _, _, soft_outputs = bplsd.decode(det[i_sample])\n",
    "    obs_correction = correction @ bplsd.obs_matrix.T % 2\n",
    "    fail = np.any(obs[i_sample] != obs_correction)\n",
    "    norm_frac = compute_norm_fraction(soft_outputs[\"cluster_llrs\"], 2)\n",
    "    fails.append(fail)\n",
    "    norm_fracs.append(norm_frac)"
   ]
  },
  {
   "cell_type": "code",
   "execution_count": 10,
   "id": "119707d2",
   "metadata": {},
   "outputs": [],
   "source": [
    "# Calculate failure rates for different cutoffs\n",
    "\n",
    "from statsmodels.stats.proportion import proportion_confint\n",
    "\n",
    "fails_array = np.array(fails)\n",
    "norm_fracs_array = np.array(norm_fracs)\n",
    "cutoffs = np.logspace(np.log10(min(norm_fracs)), np.log10(max(norm_fracs)), 100)\n",
    "\n",
    "mask = norm_fracs_array[np.newaxis, :] <= cutoffs[:, np.newaxis]\n",
    "num_selected = mask.sum(axis=1)\n",
    "num_failures = (mask * fails_array[np.newaxis, :]).sum(axis=1)\n",
    "\n",
    "failure_rates = num_failures / num_selected\n",
    "abort_rates = 1 - num_selected / shots\n",
    "\n",
    "# Calculate 95% confidence intervals using Wilson score interval\n",
    "confidence_level = 0.95\n",
    "\n",
    "# Failure rate confidence intervals\n",
    "failure_rate_lower, failure_rate_upper = proportion_confint(\n",
    "    num_failures, num_selected, alpha=1 - confidence_level, method=\"wilson\"\n",
    ")\n",
    "\n",
    "# Abort rate confidence intervals (based on selection rate)\n",
    "# Calculate CI for selection rate, then convert to abort rate\n",
    "selection_rate_lower, selection_rate_upper = proportion_confint(\n",
    "    num_selected, shots, alpha=1 - confidence_level, method=\"wilson\"\n",
    ")\n",
    "\n",
    "# Abort rate is 1 - selection rate, so we flip the bounds\n",
    "abort_rate_lower = 1 - selection_rate_upper\n",
    "abort_rate_upper = 1 - selection_rate_lower"
   ]
  },
  {
   "cell_type": "code",
   "execution_count": 11,
   "id": "38ce1d61",
   "metadata": {},
   "outputs": [
    {
     "data": {
      "image/png": "[encoded data removed]",
      "text/plain": [
       "<Figure size 500x300 with 2 Axes>"
      ]
     },
     "metadata": {},
     "output_type": "display_data"
    }
   ],
   "source": [
    "import matplotlib.pyplot as plt\n",
    "\n",
    "fig, ax1 = plt.subplots(figsize=(5, 3))\n",
    "\n",
    "# Plot failure rate on left y-axis\n",
    "color1 = \"tab:blue\"\n",
    "ax1.set_xlabel(\"Cutoff\")\n",
    "ax1.set_ylabel(\"Failure Rate\", color=color1)\n",
    "ax1.plot(cutoffs, failure_rates, color=color1, label=\"Failure Rate\")\n",
    "ax1.fill_between(\n",
    "    cutoffs, failure_rate_lower, failure_rate_upper, color=color1, alpha=0.2\n",
    ")\n",
    "ax1.tick_params(axis=\"y\", labelcolor=color1)\n",
    "ax1.grid(True, alpha=0.3)\n",
    "\n",
    "# Create second y-axis for abort rate\n",
    "ax2 = ax1.twinx()\n",
    "color2 = \"tab:orange\"\n",
    "ax2.set_ylabel(\"Abort Rate\", color=color2)\n",
    "ax2.plot(cutoffs, abort_rates, color=color2, label=\"Abort Rate\")\n",
    "ax2.fill_between(cutoffs, abort_rate_lower, abort_rate_upper, color=color2, alpha=0.2)\n",
    "ax2.tick_params(axis=\"y\", labelcolor=color2)\n",
    "\n",
    "# Add a legend\n",
    "lines1, labels1 = ax1.get_legend_handles_labels()\n",
    "lines2, labels2 = ax2.get_legend_handles_labels()\n",
    "ax1.legend(lines1 + lines2, labels1 + labels2)\n",
    "\n",
    "ax1.set_xscale(\"log\")\n",
    "ax1.set_yscale(\"log\")\n",
    "\n",
    "ax1.set_xlim(1e-3, 1e-1)\n",
    "ax1.set_ylim(1e-6, 1)\n",
    "ax2.set_ylim(0, 1)\n",
    "\n",
    "plt.tight_layout()\n",
    "plt.show()"
   ]
  },
  {
   "cell_type": "markdown",
   "id": "3115ed2c",
   "metadata": {},
   "source": [
    "## Real-time strategy"
   ]
  },
  {
   "cell_type": "code",
   "execution_count": 13,
   "id": "ed3ab2ec",
   "metadata": {},
   "outputs": [],
   "source": [
    "# Example circuit\n",
    "from ldpc_post_selection.stim_tools import remove_detectors_from_circuit\n",
    "\n",
    "circuit = stim.Circuit.generated(\n",
    "    \"surface_code:rotated_memory_z\",\n",
    "    rounds=9,\n",
    "    distance=9,\n",
    "    after_clifford_depolarization=0.005,\n",
    "    before_measure_flip_probability=0.005,\n",
    "    after_reset_flip_probability=0.005,\n",
    ")\n",
    "\n",
    "# Use only Z-type detectors for evaluating confidence\n",
    "\n",
    "detector_coords = circuit.get_detector_coordinates()\n",
    "det_ids_to_remove = []  # X-type detectors\n",
    "for det_id, (x, y, z) in detector_coords.items():\n",
    "    if (round(x) + round(y)) % 4 == 2:\n",
    "        det_ids_to_remove.append(det_id)\n",
    "circuit = remove_detectors_from_circuit(circuit, det_ids_to_remove)"
   ]
  },
  {
   "cell_type": "code",
   "execution_count": 14,
   "id": "daede557",
   "metadata": {},
   "outputs": [],
   "source": [
    "# Define the decoder\n",
    "\n",
    "bplsd = SoftOutputsBpLsdDecoder(\n",
    "    circuit=circuit,\n",
    "    max_iter=30,\n",
    "    bp_method=\"minimum_sum\",\n",
    "    lsd_method=\"LSD_0\",\n",
    "    lsd_order=0,\n",
    "    ms_scaling_factor=1.0,\n",
    "    detector_time_coords=-1,\n",
    ")"
   ]
  },
  {
   "cell_type": "markdown",
   "id": "65787817",
   "metadata": {},
   "source": [
    "*Note:* The `detector_time_coords` parameter (default `-1`) determines the time coordinates of detectors, which is necessary for sliding-window decoding (SWD). If an integer `i` is given, the `i`-th coordinate of each detector annotated in the stim circuit is treated as its time coordinate. If a sequence of integers is given, it directly specifies the time coordinates."
   ]
  },
  {
   "cell_type": "code",
   "execution_count": 15,
   "id": "48d745e5",
   "metadata": {},
   "outputs": [
    {
     "name": "stdout",
     "output_type": "stream",
     "text": [
      "Correction: [False False False ... False False False]\n",
      "Decoding success: True\n",
      "\n",
      "Soft outputs:\n",
      "{'all_clusters': [array([0, 0, 0, ..., 0, 0, 0], shape=(1945,)),\n",
      "                  array([0, 0, 0, ..., 0, 0, 0], shape=(1945,)),\n",
      "                  array([0, 0, 0, ..., 0, 0, 0], shape=(1945,)),\n",
      "                  array([0, 0, 0, ..., 0, 0, 0], shape=(1945,)),\n",
      "                  array([0, 0, 0, ..., 0, 0, 0], shape=(1945,)),\n",
      "                  array([0, 0, 0, ..., 0, 0, 0], shape=(1945,))],\n",
      " 'committed_clusters': [array([False, False, False, ..., False, False, False], shape=(1945,)),\n",
      "                        array([False, False, False, ..., False, False, False], shape=(1945,)),\n",
      "                        array([False, False, False, ..., False, False, False], shape=(1945,)),\n",
      "                        array([False, False, False, ..., False, False, False], shape=(1945,)),\n",
      "                        array([False, False, False, ..., False, False, False], shape=(1945,)),\n",
      "                        array([False, False, False, ..., False, False, False], shape=(1945,))],\n",
      " 'committed_faults': [array([ True,  True,  True, ..., False, False, False], shape=(1945,)),\n",
      "                      array([False, False, False, ..., False, False, False], shape=(1945,)),\n",
      "                      array([False, False, False, ..., False, False, False], shape=(1945,)),\n",
      "                      array([False, False, False, ..., False, False, False], shape=(1945,)),\n",
      "                      array([False, False, False, ..., False, False, False], shape=(1945,)),\n",
      "                      array([False, False, False, ...,  True,  True,  True], shape=(1945,))]}\n"
     ]
    }
   ],
   "source": [
    "# Decode a single sample via sliding-window method with soft outputs for each window\n",
    "\n",
    "sampler = circuit.compile_detector_sampler(seed=42)\n",
    "det, obs = sampler.sample(shots=1, separate_observables=True)\n",
    "\n",
    "correction, soft_outputs = bplsd.decode_sliding_window(\n",
    "    det[0], window_size=5, commit_size=1\n",
    ")\n",
    "obs_correction = correction @ bplsd.obs_matrix.T % 2\n",
    "success = np.all(obs[0] == obs_correction)\n",
    "\n",
    "from pprint import pprint\n",
    "\n",
    "print(\"Correction:\", correction)\n",
    "print(\"Decoding success:\", success)\n",
    "print()\n",
    "print(\"Soft outputs:\")\n",
    "pprint(soft_outputs)"
   ]
  },
  {
   "cell_type": "markdown",
   "id": "56671296",
   "metadata": {},
   "source": [
    "**Soft outputs:**\n",
    "\n",
    "All the values of the dictionary are lists of arrays, where each element is obtained from decoding a window. Namely, the length of each list is equal to the number of windows.\n",
    "\n",
    "- `all_clusters[i]` (integer array): Cluster assignment obtained from decoding the `i`-th window.\n",
    "- `committed_clusters[i]` (boolean array): Specifies whether each error mechanism belongs to a cluster AND is committed from the `i`-th window.\n",
    "- `committed_faults[i]` (boolean array): Specifies whether each error mechanism is committed from the `i`-th window. (This is determined by the circuit and the parameters of SWD, independent of the sample, and thus it is strictly not a soft output of decoding. However, we include this in the dictionary for convenience.)"
   ]
  },
  {
   "cell_type": "code",
   "execution_count": null,
   "id": "0ba05456",
   "metadata": {},
   "outputs": [],
   "source": [
    "# TODO: Create a function for calculating committed norm fraction"
   ]
  }
 ],
 "metadata": {
  "language_info": {
   "name": "python"
  }
 },
 "nbformat": 4,
 "nbformat_minor": 5
}
